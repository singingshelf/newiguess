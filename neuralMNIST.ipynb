{
 "cells": [
  {
   "cell_type": "markdown",
   "metadata": {},
   "source": [
    "# Basic Implementation"
   ]
  },
  {
   "cell_type": "code",
   "execution_count": 1,
   "metadata": {},
   "outputs": [],
   "source": [
    "import numpy as np"
   ]
  },
  {
   "cell_type": "code",
   "execution_count": 11,
   "metadata": {},
   "outputs": [],
   "source": [
    "class NeuralNetwork:\n",
    "    def __init__(self, input_size=784, hidden_layers=[512, 512], output_size=10):\n",
    "        self.input_size = input_size\n",
    "        self.hidden_layers = hidden_layers\n",
    "        self.output_size = output_size\n",
    "        self.weights = []\n",
    "        self.biases = []\n",
    "\n",
    "        # Input to Hidden Layers Network\n",
    "        self.weights.append(0.01 * np.random.randn(input_size, hidden_layers[0]))\n",
    "        self.biases.append(np.zeros((1, hidden_layers[0])))\n",
    "\n",
    "        # Hidden Layers Network\n",
    "        for i in range(len(hidden_layers)-1):\n",
    "            self.weights.append(0.01 * np.random.randn(hidden_layers[i], hidden_layers[i+1]))\n",
    "            self.biases.append(np.zeros((1, hidden_layers[i+1])))\n",
    "        \n",
    "        # Hidden Layers Network to Output\n",
    "        self.weights.append(0.01 * np.random.randn(hidden_layers[len(hidden_layers)-1], output_size))\n",
    "        self.biases.append(np.zeros((1, output_size)))\n",
    "\n",
    "    def forward(self, inputs):\n",
    "        layers = [inputs]\n",
    "\n",
    "        for i in range(len(self.weights)):\n",
    "            # Dot Product to \n",
    "            layers.append(np.dot(layers[-1], self.weights[i]) + self.biases[i])\n",
    "\n",
    "            # Activation Functions (ReLU + SoftMax)\n",
    "            if i == len(self.weights)-1:\n",
    "                finalOutput = np.exp(layers[-1] - np.max(layers[-1], axis=1, keepdims=True))\n",
    "                finalOutput = finalOutput / np.sum(finalOutput, axis=1, keepdims=True)\n",
    "                layers.append(finalOutput)\n",
    "            else:\n",
    "                layers.append(np.maximum(0, layers[-1]))\n",
    "        \n",
    "        return layers[-1]\n"
   ]
  },
  {
   "cell_type": "code",
   "execution_count": 12,
   "metadata": {},
   "outputs": [],
   "source": [
    "# LossCategoricalCrossEntropy implementation\n",
    "def LossCategoricalCrossEntropy(yPred, yTrue):\n",
    "    # If predicted class has a prediction of 0% likelihood this prevents log(0), which would be infinity\n",
    "    yPred = np.clip(yPred, 1e-10, 1 - 1e-10)\n",
    "\n",
    "    # We calculate the sum of the log losses\n",
    "    loss = -np.sum(yTrue * np.log(yPred), axis=1)\n",
    "\n",
    "    # We calculate the average loss - this depends on the number of samples\n",
    "    # So the return loss is the average loss not the summed up loss (which took me a while to understand)\n",
    "    average_loss = np.mean(loss)\n",
    "\n",
    "    return average_loss\n"
   ]
  },
  {
   "cell_type": "code",
   "execution_count": 4,
   "metadata": {},
   "outputs": [],
   "source": [
    "myNeuralNet = NeuralNetwork()"
   ]
  },
  {
   "cell_type": "code",
   "execution_count": 5,
   "metadata": {},
   "outputs": [
    {
     "data": {
      "text/plain": [
       "array([[0.10015088, 0.09973115, 0.10015047, 0.10023912, 0.10032136,\n",
       "        0.0997335 , 0.09989479, 0.09979533, 0.09986623, 0.10011717]])"
      ]
     },
     "execution_count": 5,
     "metadata": {},
     "output_type": "execute_result"
    }
   ],
   "source": [
    "result = myNeuralNet.forward(np.random.rand(1, 784))\n",
    "result"
   ]
  },
  {
   "cell_type": "markdown",
   "metadata": {},
   "source": [
    "# Get Weights from PyTorch Model"
   ]
  },
  {
   "cell_type": "code",
   "execution_count": 6,
   "metadata": {},
   "outputs": [],
   "source": [
    "modelMNIST = NeuralNetwork(hidden_layers=[256])"
   ]
  },
  {
   "cell_type": "code",
   "execution_count": 7,
   "metadata": {},
   "outputs": [],
   "source": [
    "# Import Weights from Folder\n",
    "modelWeights = []\n",
    "modelWeights.append(np.load(\"./modelWeights/layer_stack.1.weight.npy\"))\n",
    "modelWeights.append(np.load(\"./modelWeights/layer_stack.3.weight.npy\"))\n",
    "modelBiases = []\n",
    "modelBiases.append(np.load(\"./modelWeights/layer_stack.1.bias.npy\"))\n",
    "modelBiases.append(np.load(\"./modelWeights/layer_stack.3.bias.npy\"))"
   ]
  },
  {
   "cell_type": "code",
   "execution_count": 8,
   "metadata": {},
   "outputs": [
    {
     "name": "stdout",
     "output_type": "stream",
     "text": [
      "Shapes PytTorchModel: (256,)\n",
      "Shapes PytTorchModel Transformed: (1, 256)\n",
      "Shapes MyModel: (1, 256)\n",
      "\n",
      "Shapes PytTorchModel: (10,)\n",
      "Shapes PytTorchModel Transformed: (1, 10)\n",
      "Shapes MyModel: (1, 10)\n",
      "\n",
      "Shapes PytTorchModel: (256, 784)\n",
      "Shapes PytTorchModel Transformed: (784, 256)\n",
      "Shapes MyModel: (784, 256)\n",
      "\n",
      "Shapes PytTorchModel: (10, 256)\n",
      "Shapes PytTorchModel Transformed: (256, 10)\n",
      "Shapes MyModel: (256, 10)\n",
      "\n"
     ]
    }
   ],
   "source": [
    "# Visualize Biases:\n",
    "for i in range(len(modelBiases)):\n",
    "    print(f\"Shapes PytTorchModel: {modelBiases[i].shape}\")\n",
    "    print(f\"Shapes PytTorchModel Transformed: {np.expand_dims(modelBiases[i], axis=0).shape}\")\n",
    "    print(f\"Shapes MyModel: {modelMNIST.biases[i].shape}\")\n",
    "    print()\n",
    "\n",
    "# Visualize Weights:\n",
    "for i in range(len(modelWeights)):\n",
    "    print(f\"Shapes PytTorchModel: {modelWeights[i].shape}\")\n",
    "    print(f\"Shapes PytTorchModel Transformed: {modelWeights[i].T.shape}\")\n",
    "    print(f\"Shapes MyModel: {modelMNIST.weights[i].shape}\")\n",
    "    print()"
   ]
  },
  {
   "cell_type": "code",
   "execution_count": 9,
   "metadata": {},
   "outputs": [],
   "source": [
    "# Change Biases:\n",
    "for i in range(len(modelBiases)):\n",
    "    modelMNIST.biases[i] = np.expand_dims(modelBiases[i], axis=0)\n",
    "\n",
    "# Change Weights:\n",
    "for i in range(len(modelWeights)):\n",
    "    modelMNIST.weights[i] = modelWeights[i].T"
   ]
  },
  {
   "cell_type": "code",
   "execution_count": 2,
   "metadata": {},
   "outputs": [],
   "source": [
    "import gzip\n",
    "\n",
    "# Load MNIST dataset\n",
    "def extract_images(filename):\n",
    "    with gzip.open(filename, 'rb') as f:\n",
    "        magic, num, rows, cols = np.frombuffer(f.read(16), dtype=np.uint32, count=4).byteswap()\n",
    "        images = np.frombuffer(f.read(), dtype=np.uint8).reshape(num, rows, cols)\n",
    "    return images\n",
    "\n",
    "def extract_labels(filename):\n",
    "    with gzip.open(filename, 'rb') as f:\n",
    "        magic, num = np.frombuffer(f.read(8), dtype=np.uint32, count=2).byteswap()\n",
    "        labels = np.frombuffer(f.read(), dtype=np.uint8)\n",
    "    return labels\n",
    "\n",
    "train_images = extract_images(\"./MNISTdata/train-images-idx3-ubyte.gz\")\n",
    "train_labels = extract_labels(\"./MNISTdata/train-labels-idx1-ubyte.gz\")\n",
    "test_images = extract_images(\"./MNISTdata/t10k-images-idx3-ubyte.gz\")\n",
    "test_labels = extract_labels(\"./MNISTdata/t10k-labels-idx1-ubyte.gz\")"
   ]
  },
  {
   "cell_type": "code",
   "execution_count": 11,
   "metadata": {},
   "outputs": [
    {
     "name": "stdout",
     "output_type": "stream",
     "text": [
      "Test Label: 7\n",
      "Predicted Label: [[0. 0. 0. 0. 0. 0. 0. 1. 0. 0.]]\n"
     ]
    }
   ],
   "source": [
    "testImage1 = np.expand_dims(test_images[0].flatten(), axis=0)\n",
    "print(f\"Test Label: {test_labels[0]}\")\n",
    "print(f\"Predicted Label: {modelMNIST.forward(testImage1)}\")"
   ]
  },
  {
   "cell_type": "code",
   "execution_count": 12,
   "metadata": {},
   "outputs": [
    {
     "data": {
      "text/plain": [
       "0.9753"
      ]
     },
     "execution_count": 12,
     "metadata": {},
     "output_type": "execute_result"
    }
   ],
   "source": [
    "correct = 0\n",
    "incorrect = 0\n",
    "for i in range(len(test_images)):\n",
    "    image = np.expand_dims(test_images[i].flatten(), axis=0)\n",
    "\n",
    "    if int(test_labels[i]) == int(modelMNIST.forward(image).argmax()):\n",
    "        correct += 1\n",
    "    else:\n",
    "        incorrect += 1\n",
    "\n",
    "(correct)/(correct+incorrect)"
   ]
  },
  {
   "cell_type": "markdown",
   "metadata": {},
   "source": [
    "# Implement Backpropagation"
   ]
  },
  {
   "cell_type": "code",
   "execution_count": 52,
   "metadata": {},
   "outputs": [],
   "source": [
    "import numpy as np\n",
    "\n",
    "class NeuralNetwork:\n",
    "    def __init__(self, input_size=784, hidden_layers=[512, 512], output_size=10):\n",
    "        self.input_size = input_size\n",
    "        self.hidden_layers = hidden_layers\n",
    "        self.output_size = output_size\n",
    "        self.weights = []\n",
    "        self.biases = []\n",
    "        self.gradientsWeights = []\n",
    "        self.gradientsBiases = []\n",
    "        self.iterations = 0\n",
    "\n",
    "        # Input to Hidden Layers Network\n",
    "        # np.random.seed(0)\n",
    "        self.weights.append(0.01 * np.random.randn(input_size, hidden_layers[0]))\n",
    "        self.biases.append(np.zeros((1, hidden_layers[0])))\n",
    "\n",
    "        # Hidden Layers Network\n",
    "        for i in range(len(hidden_layers)-1):\n",
    "            # np.random.seed(0)\n",
    "            self.weights.append(0.01 * np.random.randn(hidden_layers[i], hidden_layers[i+1]))\n",
    "            self.biases.append(np.zeros((1, hidden_layers[i+1])))\n",
    "        \n",
    "        # Hidden Layers Network to Output\n",
    "        # np.random.seed(0)\n",
    "        self.weights.append(0.01 * np.random.randn(hidden_layers[len(hidden_layers)-1], output_size))\n",
    "        self.biases.append(np.zeros((1, output_size)))\n",
    "\n",
    "    def forward(self, inputs):\n",
    "        self.outputs = [inputs]\n",
    "        self.outputsTesting = [\"inputs\"]\n",
    "\n",
    "        for i in range(len(self.weights)):\n",
    "            # Dot Product to \n",
    "            self.outputs.append(np.dot(self.outputs[-1], self.weights[i]) + self.biases[i])\n",
    "            self.outputsTesting.append(\"dense\")\n",
    "\n",
    "            # Activation Functions (ReLU + SoftMax)\n",
    "            if i == len(self.weights)-1:\n",
    "                finalOutput = np.exp(self.outputs[-1] - np.max(self.outputs[-1], axis=1, keepdims=True))\n",
    "                finalOutput = finalOutput / np.sum(finalOutput, axis=1, keepdims=True)\n",
    "                self.outputs.append(finalOutput)\n",
    "                self.outputsTesting.append(\"softmax\")\n",
    "            else:\n",
    "                self.outputs.append(np.maximum(0, self.outputs[-1]))\n",
    "                self.outputsTesting.append(\"relu\")\n",
    "        \n",
    "        return self.outputs[-1]\n",
    "    \n",
    "    def backwards(self, y_true):\n",
    "        # Softmax + LossCategoricalEntropy \n",
    "        #       -> Still don't fully understand the derivation for this (working on it)\n",
    "        #       -> I roughly understand the following code but it was extracted from the nnfs textbook\n",
    "        #       -> nnfs textBook -> https://nnfs.io/\n",
    "\n",
    "        # Number of samples\n",
    "        samples = len(self.outputs[-1])\n",
    "\n",
    "        # If labels are one-hot encoded,\n",
    "        # turn them into discrete values\n",
    "        if len(y_true.shape) == 2:\n",
    "            print(\"Chaning to Discrete Values\")\n",
    "            y_true = np.argmax(y_true, axis=1)\n",
    "\n",
    "        # Copy so we can safely modify\n",
    "        dSoftMaxCrossEntropy = self.outputs[-1].copy()\n",
    "        # Calculate gradient\n",
    "        dSoftMaxCrossEntropy[range(samples), y_true] -= 1\n",
    "        # Normalize gradient\n",
    "        dSoftMaxCrossEntropy = dSoftMaxCrossEntropy / samples\n",
    "        # print(dSoftMaxCrossEntropy)\n",
    "\n",
    "        # print(dSoftMaxCrossEntropy)\n",
    "        # Calculate gradients -> Calcualte derivative of weights, biases, and inputs (to continue to backpropagate)\n",
    "        dInputs = np.dot(dSoftMaxCrossEntropy.copy(), self.weights[-1].T)\n",
    "\n",
    "        dWeights = np.dot(self.outputs[-3].T, dSoftMaxCrossEntropy.copy())\n",
    "        dBiases = np.sum(dSoftMaxCrossEntropy.copy(), axis=0, keepdims=True)\n",
    "        self.gradientsWeights = [dWeights] + self.gradientsWeights\n",
    "        self.gradientsBiases = [dBiases] + self.gradientsBiases\n",
    "\n",
    "\n",
    "        i = -3\n",
    "        j = -1\n",
    "        for _ in range(len(self.hidden_layers)):\n",
    "            i -= 1\n",
    "            j -= 1\n",
    "            \n",
    "            # ReLU activation Function\n",
    "            dInputsReLU = dInputs.copy()\n",
    "            dInputsReLU[self.outputs[i] <= 0] = 0\n",
    "            \n",
    "            i -= 1\n",
    "            dInputs = np.dot(dInputsReLU, self.weights[j].T)\n",
    "            dWeights = np.dot(self.outputs[i].T, dInputsReLU)\n",
    "            dBiases = np.sum(dInputsReLU, axis=0, keepdims=True)\n",
    "            self.gradientsWeights = [dWeights] + self.gradientsWeights\n",
    "            self.gradientsBiases = [dBiases] + self.gradientsBiases\n",
    "\n",
    "        # print(\"dense1.dweights\")\n",
    "        # print(dWeights)\n",
    "        # print(dWeights.shape)\n",
    "        # print(\"dense1.dbiases\")\n",
    "        # print(dBiases)\n",
    "        # print(dBiases.shape)\n",
    "    \n",
    "    def updateParams(self, lr=0.05, decay=1e-7):\n",
    "        lr = lr * (1. / (1. + decay * self.iterations))\n",
    "        # print(f\"Learning Rate: {lr}\")\n",
    "        # print(self.iterations)\n",
    "\n",
    "        for i in range(len(self.weights)):\n",
    "            if i != len(self.weights)-1:\n",
    "                assert self.weights[i].shape == self.gradientsWeights[i].shape\n",
    "                self.weights[i] += -lr*self.gradientsWeights[i]\n",
    "        \n",
    "        for i in range(len(self.biases)):\n",
    "            if i != len(self.biases)-1:\n",
    "                assert self.biases[i].shape == self.gradientsBiases[i].shape\n",
    "                self.biases[i] += -lr*self.gradientsBiases[i]\n",
    "        \n",
    "        # print(f\"Learning Rate: {lr}\")\n",
    "        \n",
    "        self.iterations += 1\n",
    "\n",
    "# LossCategoricalCrossEntropy implementation\n",
    "def LossCategoricalCrossEntropy(yPred, yTrue):\n",
    "    # If predicted class has a prediction of 0% likelihood this prevents log(0), which would be infinity\n",
    "    yPred = np.clip(yPred, 1e-10, 1 - 1e-10)\n",
    "\n",
    "    # We calculate the sum of the log losses\n",
    "    loss = -np.sum(yTrue * np.log(yPred), axis=1)\n",
    "\n",
    "    # We calculate the average loss - this depends on the number of samples\n",
    "    # So the return loss is the average loss not the summed up loss (which took me a while to understand)\n",
    "    average_loss = np.mean(loss)\n",
    "\n",
    "    return average_loss\n",
    "\n",
    "def sparse_to_one_hot(sparse_labels, num_classes):\n",
    "    one_hot_encoded = np.zeros((len(sparse_labels), num_classes))\n",
    "    one_hot_encoded[np.arange(len(sparse_labels)), sparse_labels] = 1\n",
    "    return one_hot_encoded\n"
   ]
  },
  {
   "cell_type": "code",
   "execution_count": 41,
   "metadata": {},
   "outputs": [
    {
     "data": {
      "text/plain": [
       "5"
      ]
     },
     "execution_count": 41,
     "metadata": {},
     "output_type": "execute_result"
    }
   ],
   "source": [
    "len(myNeuralNet.outputs)"
   ]
  },
  {
   "cell_type": "code",
   "execution_count": 53,
   "metadata": {},
   "outputs": [],
   "source": [
    "myNeuralNet = NeuralNetwork(hidden_layers=[128, 128])"
   ]
  },
  {
   "cell_type": "code",
   "execution_count": 54,
   "metadata": {},
   "outputs": [],
   "source": [
    "train_images = extract_images(\"./MNISTdata/train-images-idx3-ubyte.gz\")\n",
    "train_labels = extract_labels(\"./MNISTdata/train-labels-idx1-ubyte.gz\")\n",
    "test_images = extract_images(\"./MNISTdata/t10k-images-idx3-ubyte.gz\")\n",
    "test_labels = extract_labels(\"./MNISTdata/t10k-labels-idx1-ubyte.gz\")"
   ]
  },
  {
   "cell_type": "markdown",
   "metadata": {},
   "source": [
    "# Testing with my Own Model"
   ]
  },
  {
   "cell_type": "code",
   "execution_count": 16,
   "metadata": {},
   "outputs": [],
   "source": [
    "# data = train_images\n",
    "# dataLabels = train_labels\n",
    "\n",
    "# # Normalize\n",
    "# data = (data.astype(np.float32)-127.5)/127.5\n",
    "\n",
    "# data = data.reshape(60000, 784)\n",
    "\n",
    "# accuracies = []\n",
    "# losses = []\n",
    "\n",
    "# BATCH_SIZE = 32\n",
    "\n",
    "# train_steps = len(data) // BATCH_SIZE\n",
    "# step = 0"
   ]
  },
  {
   "cell_type": "code",
   "execution_count": 17,
   "metadata": {},
   "outputs": [],
   "source": [
    "# # One epoch\n",
    "# batch_X = data[step*BATCH_SIZE:(step+1)*BATCH_SIZE]\n",
    "# batch_y = dataLabels[step*BATCH_SIZE:(step+1)*BATCH_SIZE]\n",
    "\n",
    "# X = batch_X\n",
    "# y = batch_y\n",
    "\n",
    "# output = myNeuralNet.forward(X)\n",
    "\n",
    "# if step % 1 == 0:\n",
    "#     predictions = np.argmax(output, axis=1)\n",
    "#     if len(y.shape) == 2:\n",
    "#         y = np.argmax(y, axis=1)\n",
    "#     accuracy = np.mean(predictions==y)\n",
    "\n",
    "#     loss = LossCategoricalCrossEntropy(output, sparse_to_one_hot(y, 10))\n",
    "#     accuracies.append(accuracy)\n",
    "#     losses.append(loss)\n",
    "\n",
    "#     print(f'epoch: {epoch}, ' +\n",
    "#             f'acc: {accuracy:.3f}, ' +\n",
    "#             f'loss: {loss:.3f}')\n",
    "\n",
    "# # Backward pass\n",
    "# myNeuralNet.backwards(y)\n",
    "\n",
    "# # Update weights and biases\n",
    "# myNeuralNet.updateParams(lr=0.8, decay=1e-6)\n",
    "\n",
    "# step += 1"
   ]
  },
  {
   "cell_type": "markdown",
   "metadata": {},
   "source": [
    "# Working Implementation"
   ]
  },
  {
   "cell_type": "code",
   "execution_count": 55,
   "metadata": {},
   "outputs": [
    {
     "name": "stdout",
     "output_type": "stream",
     "text": [
      "epoch: 1\n",
      "epoch: 1, acc: 0.125, loss: 2.303\n",
      "epoch: 1, acc: 0.469, loss: 1.593\n",
      "epoch: 1, acc: 0.781, loss: 0.645\n",
      "epoch: 1, acc: 0.750, loss: 0.737\n",
      "epoch: 1, acc: 0.906, loss: 0.424\n",
      "epoch: 1, acc: 0.875, loss: 0.544\n",
      "epoch: 1, acc: 0.844, loss: 0.269\n",
      "epoch: 1, acc: 0.938, loss: 0.214\n",
      "epoch: 1, acc: 0.906, loss: 0.302\n",
      "epoch: 1, acc: 0.906, loss: 0.238\n",
      "epoch: 1, acc: 0.875, loss: 0.363\n",
      "epoch: 1, acc: 0.906, loss: 0.379\n",
      "epoch: 1, acc: 0.906, loss: 0.249\n",
      "epoch: 1, acc: 0.875, loss: 0.444\n",
      "epoch: 1, acc: 0.906, loss: 0.238\n",
      "epoch: 1, acc: 0.938, loss: 0.235\n",
      "epoch: 1, acc: 0.875, loss: 0.302\n",
      "epoch: 1, acc: 0.906, loss: 0.229\n",
      "epoch: 1, acc: 0.938, loss: 0.224\n",
      "epoch: 2\n",
      "epoch: 2, acc: 0.969, loss: 0.187\n",
      "epoch: 2, acc: 0.875, loss: 0.381\n",
      "epoch: 2, acc: 0.938, loss: 0.205\n",
      "epoch: 2, acc: 1.000, loss: 0.062\n",
      "epoch: 2, acc: 0.969, loss: 0.137\n",
      "epoch: 2, acc: 0.875, loss: 0.258\n",
      "epoch: 2, acc: 0.875, loss: 0.203\n",
      "epoch: 2, acc: 0.969, loss: 0.106\n",
      "epoch: 2, acc: 0.969, loss: 0.108\n",
      "epoch: 2, acc: 0.969, loss: 0.145\n",
      "epoch: 2, acc: 0.938, loss: 0.296\n",
      "epoch: 2, acc: 0.906, loss: 0.192\n",
      "epoch: 2, acc: 0.938, loss: 0.181\n",
      "epoch: 2, acc: 0.875, loss: 0.348\n",
      "epoch: 2, acc: 0.906, loss: 0.202\n",
      "epoch: 2, acc: 0.969, loss: 0.180\n",
      "epoch: 2, acc: 0.938, loss: 0.111\n",
      "epoch: 2, acc: 0.969, loss: 0.119\n",
      "epoch: 2, acc: 0.938, loss: 0.136\n",
      "epoch: 3\n",
      "epoch: 3, acc: 0.969, loss: 0.117\n",
      "epoch: 3, acc: 0.906, loss: 0.291\n",
      "epoch: 3, acc: 0.969, loss: 0.152\n",
      "epoch: 3, acc: 1.000, loss: 0.027\n",
      "epoch: 3, acc: 0.969, loss: 0.140\n",
      "epoch: 3, acc: 0.906, loss: 0.186\n",
      "epoch: 3, acc: 0.969, loss: 0.106\n",
      "epoch: 3, acc: 0.969, loss: 0.061\n",
      "epoch: 3, acc: 0.969, loss: 0.075\n",
      "epoch: 3, acc: 0.969, loss: 0.117\n",
      "epoch: 3, acc: 0.938, loss: 0.238\n",
      "epoch: 3, acc: 0.969, loss: 0.152\n",
      "epoch: 3, acc: 0.938, loss: 0.172\n",
      "epoch: 3, acc: 0.875, loss: 0.252\n",
      "epoch: 3, acc: 0.938, loss: 0.141\n",
      "epoch: 3, acc: 0.938, loss: 0.119\n",
      "epoch: 3, acc: 0.969, loss: 0.077\n",
      "epoch: 3, acc: 1.000, loss: 0.069\n",
      "epoch: 3, acc: 0.969, loss: 0.107\n",
      "epoch: 4\n",
      "epoch: 4, acc: 0.969, loss: 0.103\n",
      "epoch: 4, acc: 0.938, loss: 0.200\n",
      "epoch: 4, acc: 0.969, loss: 0.145\n",
      "epoch: 4, acc: 1.000, loss: 0.013\n",
      "epoch: 4, acc: 0.969, loss: 0.134\n",
      "epoch: 4, acc: 0.969, loss: 0.150\n",
      "epoch: 4, acc: 0.969, loss: 0.078\n",
      "epoch: 4, acc: 1.000, loss: 0.031\n",
      "epoch: 4, acc: 0.969, loss: 0.054\n",
      "epoch: 4, acc: 0.969, loss: 0.089\n",
      "epoch: 4, acc: 0.938, loss: 0.212\n",
      "epoch: 4, acc: 0.969, loss: 0.131\n",
      "epoch: 4, acc: 0.938, loss: 0.155\n",
      "epoch: 4, acc: 0.938, loss: 0.211\n",
      "epoch: 4, acc: 0.969, loss: 0.104\n",
      "epoch: 4, acc: 0.969, loss: 0.096\n",
      "epoch: 4, acc: 1.000, loss: 0.068\n",
      "epoch: 4, acc: 1.000, loss: 0.046\n",
      "epoch: 4, acc: 0.969, loss: 0.089\n"
     ]
    }
   ],
   "source": [
    "data = train_images\n",
    "dataLabels = train_labels\n",
    "\n",
    "# Normalize\n",
    "data = (data.astype(np.float32)-127.5)/127.5\n",
    "\n",
    "data = data.reshape(60000, 784)\n",
    "\n",
    "accuracies = []\n",
    "losses = []\n",
    "\n",
    "BATCH_SIZE = 32\n",
    "\n",
    "# Main training loop\n",
    "for epoch in range(1, 5):\n",
    "    print(f'epoch: {epoch}')\n",
    "    train_steps = len(data) // BATCH_SIZE\n",
    "\n",
    "    for step in range(train_steps):\n",
    "        batch_X = data[step*BATCH_SIZE:(step+1)*BATCH_SIZE]\n",
    "        batch_y = dataLabels[step*BATCH_SIZE:(step+1)*BATCH_SIZE]\n",
    "\n",
    "        X = batch_X\n",
    "        y = batch_y\n",
    "\n",
    "        output = myNeuralNet.forward(X)\n",
    "\n",
    "        if step % 100 == 0:\n",
    "            predictions = np.argmax(output, axis=1)\n",
    "            if len(y.shape) == 2:\n",
    "                y = np.argmax(y, axis=1)\n",
    "            accuracy = np.mean(predictions==y)\n",
    "\n",
    "            loss = LossCategoricalCrossEntropy(output, sparse_to_one_hot(y, 10))\n",
    "            accuracies.append(accuracy)\n",
    "            losses.append(loss)\n",
    "\n",
    "            print(f'epoch: {epoch}, ' +\n",
    "                    f'acc: {accuracy:.3f}, ' +\n",
    "                    f'loss: {loss:.3f}')\n",
    "        \n",
    "        # Backward pass\n",
    "        myNeuralNet.backwards(y)\n",
    "\n",
    "        # Update weights and biases\n",
    "        myNeuralNet.updateParams(lr=0.5, decay=1e-6)"
   ]
  },
  {
   "cell_type": "code",
   "execution_count": 56,
   "metadata": {},
   "outputs": [
    {
     "name": "stdout",
     "output_type": "stream",
     "text": [
      "(10000, 28, 28)\n",
      "0.9641\n"
     ]
    }
   ],
   "source": [
    "dataTest = test_images\n",
    "dataTestLabels = test_labels\n",
    "\n",
    "# Normalize\n",
    "dataTest = (dataTest.astype(np.float32)-127.5)/127.5\n",
    "print(dataTest.shape)\n",
    "dataTest = dataTest.reshape(10000, 784)\n",
    "\n",
    "X = dataTest\n",
    "y = dataTestLabels\n",
    "\n",
    "output = myNeuralNet.forward(dataTest)\n",
    "\n",
    "predictions = np.argmax(output, axis=1)\n",
    "if len(y.shape) == 2:\n",
    "    y = np.argmax(y, axis=1)\n",
    "accuracy = np.mean(predictions==y)\n",
    "print(accuracy)"
   ]
  },
  {
   "cell_type": "code",
   "execution_count": 32,
   "metadata": {},
   "outputs": [
    {
     "data": {
      "text/plain": [
       "[<matplotlib.lines.Line2D at 0x10a9b9580>]"
      ]
     },
     "execution_count": 32,
     "metadata": {},
     "output_type": "execute_result"
    },
    {
     "data": {
      "image/png": "[encoded data removed]",
      "text/plain": [
       "<Figure size 640x480 with 1 Axes>"
      ]
     },
     "metadata": {},
     "output_type": "display_data"
    }
   ],
   "source": [
    "import matplotlib.pyplot as mp\n",
    "\n",
    "mp.plot(losses)\n",
    "mp.plot(accuracies)"
   ]
  },
  {
   "cell_type": "markdown",
   "metadata": {},
   "source": [
    "# Notes"
   ]
  },
  {
   "cell_type": "markdown",
   "metadata": {},
   "source": [
    "(batchNumber[32], inputs[718]) * (weights[718], weights[512]) = (32, 512)"
   ]
  },
  {
   "cell_type": "markdown",
   "metadata": {},
   "source": [
    "- Implement GitHub Repo - DONE\n",
    "\n",
    "Forward pass - Train \n",
    "    - Neurons + - DONE\n",
    "    - Acitvation function + - DONE\n",
    "    - Softwax (get probablities) + - DONE\n",
    "    - loss - DONE\n",
    "    - Test Forward Pass with Other Model Gradients - DONE\n",
    "\n",
    "Implement backpropagation\n",
    "    - Explain how to do and everything\n",
    "    - Start training with basic 80-20\n",
    "\n",
    "Introduce regularization\n",
    "Batch Normalization\n",
    "\n",
    "Optimizer\n",
    "\n",
    "Visualize gradients\n",
    "\n",
    "Visualize MNIST with UMAP or T-SNE"
   ]
  }
 ],
 "metadata": {
  "kernelspec": {
   "display_name": "default",
   "language": "python",
   "name": "python3"
  },
  "language_info": {
   "codemirror_mode": {
    "name": "ipython",
    "version": 3
   },
   "file_extension": ".py",
   "mimetype": "text/x-python",
   "name": "python",
   "nbconvert_exporter": "python",
   "pygments_lexer": "ipython3",
   "version": "3.12.3"
  }
 },
 "nbformat": 4,
 "nbformat_minor": 2
}
