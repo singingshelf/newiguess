{
 "cells": [
  {
   "cell_type": "code",
   "execution_count": 285,
   "metadata": {},
   "outputs": [],
   "source": [
    "import numpy as np"
   ]
  },
  {
   "cell_type": "code",
   "execution_count": 288,
   "metadata": {},
   "outputs": [],
   "source": [
    "class NeuralNetwork:\n",
    "    def __init__(self, input_size=718, hidden_layers=[512, 512], output_size=3):\n",
    "        self.input_size = input_size\n",
    "        self.hidden_layers = hidden_layers\n",
    "        self.output_size = output_size\n",
    "        self.weights = []\n",
    "        self.biases = []\n",
    "\n",
    "        # Input to Hidden Layers Network\n",
    "        self.weights.append(0.01 * np.random.rand(input_size, hidden_layers[0]))\n",
    "        self.biases.append(np.zeros((1, hidden_layers[0])))\n",
    "\n",
    "        # Hidden Layers Network\n",
    "        for i in range(len(hidden_layers)-1):\n",
    "            self.weights.append(0.01 * np.random.rand(hidden_layers[i], hidden_layers[i+1]))\n",
    "            self.biases.append(np.zeros((1, hidden_layers[i+1])))\n",
    "        \n",
    "        # Hidden Layers Network to Output\n",
    "        self.weights.append(0.01 * np.random.rand(hidden_layers[len(hidden_layers)-1], output_size))\n",
    "        self.biases.append(np.zeros((1, output_size)))\n",
    "\n",
    "    def forward(self, inputs):\n",
    "        layers = [inputs]\n",
    "\n",
    "        for i in range(len(self.weights)):\n",
    "            # Dot Product to \n",
    "            layers.append(np.dot(layers[-1], self.weights[i]) + self.biases[i])\n",
    "\n",
    "            # Activation Functions (ReLU + SoftMax)\n",
    "            if i == len(self.weights)-1:\n",
    "                finalOutput = np.exp(layers[-1] - np.max(layers[-1], axis=1, keepdims=True))\n",
    "                finalOutput = finalOutput / np.sum(finalOutput, axis=1, keepdims=True)\n",
    "                layers.append(finalOutput)\n",
    "            else:\n",
    "                layers.append(np.maximum(0, layers[-1]))\n",
    "        \n",
    "        return layers[-1]\n"
   ]
  },
  {
   "cell_type": "code",
   "execution_count": 289,
   "metadata": {},
   "outputs": [],
   "source": [
    "# LossCategoricalCrossEntropy implementation\n",
    "def LossCategoricalCrossEntropy(yPred, yTrue):\n",
    "    # If predicted class has a prediction of 0% likelihood this prevents log(0), which would be infinity\n",
    "    yPred = np.clip(yPred, 1e-10, 1 - 1e-10)\n",
    "\n",
    "    # We calculate the sum of the log losses\n",
    "    loss = -np.sum(yTrue * np.log(yPred), axis=1)\n",
    "\n",
    "    # We calculate the average loss - this depends on the number of samples\n",
    "    # So the return loss is the average loss not the summed up loss (which took me a while to understand)\n",
    "    average_loss = np.mean(loss)\n",
    "\n",
    "    return average_loss\n"
   ]
  },
  {
   "cell_type": "code",
   "execution_count": 290,
   "metadata": {},
   "outputs": [],
   "source": [
    "myNeuralNet = NeuralNetwork()"
   ]
  },
  {
   "cell_type": "code",
   "execution_count": 292,
   "metadata": {},
   "outputs": [
    {
     "data": {
      "text/plain": [
       "array([[0.34324246, 0.34636421, 0.31039333]])"
      ]
     },
     "execution_count": 292,
     "metadata": {},
     "output_type": "execute_result"
    }
   ],
   "source": [
    "result = myNeuralNet.forward(np.random.rand(1, 718))\n",
    "result"
   ]
  },
  {
   "cell_type": "markdown",
   "metadata": {},
   "source": [
    "# Notes"
   ]
  },
  {
   "cell_type": "markdown",
   "metadata": {},
   "source": [
    "(batchNumber[32], inputs[718]) * (weights[718], weights[512]) = (32, 512)"
   ]
  },
  {
   "cell_type": "markdown",
   "metadata": {},
   "source": [
    "- Implement GitHub Repo - DONE\n",
    "\n",
    "Forward pass - Train \n",
    "    - Neurons + - DONE\n",
    "    - Acitvation function + - DONE\n",
    "    - Softwax (get probablities) + - DONE\n",
    "    - loss\n",
    "    - Test Forward Pass with Other Model Gradients\n",
    "\n",
    "Implement backpropagation\n",
    "    - Explain how to do and everything\n",
    "    - Start training with basic 80-20\n",
    "\n",
    "Introduce regularization\n",
    "Batch Normalization\n",
    "\n",
    "Optimizer\n",
    "\n",
    "Visualize gradients\n",
    "\n",
    "Visualize MNIST with UMAP or T-SNE"
   ]
  }
 ],
 "metadata": {
  "kernelspec": {
   "display_name": "default",
   "language": "python",
   "name": "python3"
  },
  "language_info": {
   "codemirror_mode": {
    "name": "ipython",
    "version": 3
   },
   "file_extension": ".py",
   "mimetype": "text/x-python",
   "name": "python",
   "nbconvert_exporter": "python",
   "pygments_lexer": "ipython3",
   "version": "3.11.3"
  }
 },
 "nbformat": 4,
 "nbformat_minor": 2
}
