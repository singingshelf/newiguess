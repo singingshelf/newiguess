{
 "cells": [
  {
   "cell_type": "markdown",
   "metadata": {},
   "source": [
    "# Basic Implementation"
   ]
  },
  {
   "cell_type": "code",
   "execution_count": 5,
   "metadata": {},
   "outputs": [],
   "source": [
    "import numpy as np"
   ]
  },
  {
   "cell_type": "code",
   "execution_count": 3,
   "metadata": {},
   "outputs": [],
   "source": [
    "class NeuralNetwork:\n",
    "    def __init__(self, input_size=784, hidden_layers=[512, 512], output_size=10):\n",
    "        self.input_size = input_size\n",
    "        self.hidden_layers = hidden_layers\n",
    "        self.output_size = output_size\n",
    "        self.weights = []\n",
    "        self.biases = []\n",
    "\n",
    "        # Input to Hidden Layers Network\n",
    "        self.weights.append(0.01 * np.random.randn(input_size, hidden_layers[0]))\n",
    "        self.biases.append(np.zeros((1, hidden_layers[0])))\n",
    "\n",
    "        # Hidden Layers Network\n",
    "        for i in range(len(hidden_layers)-1):\n",
    "            self.weights.append(0.01 * np.random.randn(hidden_layers[i], hidden_layers[i+1]))\n",
    "            self.biases.append(np.zeros((1, hidden_layers[i+1])))\n",
    "        \n",
    "        # Hidden Layers Network to Output\n",
    "        self.weights.append(0.01 * np.random.randn(hidden_layers[len(hidden_layers)-1], output_size))\n",
    "        self.biases.append(np.zeros((1, output_size)))\n",
    "\n",
    "    def forward(self, inputs):\n",
    "        layers = [inputs]\n",
    "\n",
    "        for i in range(len(self.weights)):\n",
    "            # Dot Product to \n",
    "            layers.append(np.dot(layers[-1], self.weights[i]) + self.biases[i])\n",
    "\n",
    "            # Activation Functions (ReLU + SoftMax)\n",
    "            if i == len(self.weights)-1:\n",
    "                finalOutput = np.exp(layers[-1] - np.max(layers[-1], axis=1, keepdims=True))\n",
    "                finalOutput = finalOutput / np.sum(finalOutput, axis=1, keepdims=True)\n",
    "                layers.append(finalOutput)\n",
    "            else:\n",
    "                layers.append(np.maximum(0, layers[-1]))\n",
    "        \n",
    "        return layers[-1]\n"
   ]
  },
  {
   "cell_type": "code",
   "execution_count": 1,
   "metadata": {},
   "outputs": [],
   "source": [
    "# LossCategoricalCrossEntropy implementation\n",
    "def LossCategoricalCrossEntropy(yPred, yTrue):\n",
    "    # If predicted class has a prediction of 0% likelihood this prevents log(0), which would be infinity\n",
    "    yPred = np.clip(yPred, 1e-10, 1 - 1e-10)\n",
    "\n",
    "    # We calculate the sum of the log losses\n",
    "    loss = -np.sum(yTrue * np.log(yPred), axis=1)\n",
    "\n",
    "    # We calculate the average loss - this depends on the number of samples\n",
    "    # So the return loss is the average loss not the summed up loss (which took me a while to understand)\n",
    "    average_loss = np.mean(loss)\n",
    "\n",
    "    return average_loss\n"
   ]
  },
  {
   "cell_type": "code",
   "execution_count": 6,
   "metadata": {},
   "outputs": [],
   "source": [
    "myNeuralNet = NeuralNetwork()"
   ]
  },
  {
   "cell_type": "code",
   "execution_count": 7,
   "metadata": {},
   "outputs": [
    {
     "data": {
      "text/plain": [
       "array([[0.10005443, 0.09957102, 0.10021873, 0.09973396, 0.09948324,\n",
       "        0.10095883, 0.09995889, 0.09989615, 0.09975392, 0.10037081]])"
      ]
     },
     "execution_count": 7,
     "metadata": {},
     "output_type": "execute_result"
    }
   ],
   "source": [
    "result = myNeuralNet.forward(np.random.rand(1, 784))\n",
    "result"
   ]
  },
  {
   "cell_type": "markdown",
   "metadata": {},
   "source": [
    "# Get Weights from PyTorch Model"
   ]
  },
  {
   "cell_type": "code",
   "execution_count": 8,
   "metadata": {},
   "outputs": [],
   "source": [
    "modelMNIST = NeuralNetwork(hidden_layers=[256])"
   ]
  },
  {
   "cell_type": "code",
   "execution_count": 9,
   "metadata": {},
   "outputs": [],
   "source": [
    "# Import Weights from Folder\n",
    "modelWeights = []\n",
    "modelWeights.append(np.load(\"./modelWeights/layer_stack.1.weight.npy\"))\n",
    "modelWeights.append(np.load(\"./modelWeights/layer_stack.3.weight.npy\"))\n",
    "modelBiases = []\n",
    "modelBiases.append(np.load(\"./modelWeights/layer_stack.1.bias.npy\"))\n",
    "modelBiases.append(np.load(\"./modelWeights/layer_stack.3.bias.npy\"))"
   ]
  },
  {
   "cell_type": "code",
   "execution_count": 10,
   "metadata": {},
   "outputs": [
    {
     "name": "stdout",
     "output_type": "stream",
     "text": [
      "Shapes PytTorchModel: (256,)\n",
      "Shapes PytTorchModel Transformed: (1, 256)\n",
      "Shapes MyModel: (1, 256)\n",
      "\n",
      "Shapes PytTorchModel: (10,)\n",
      "Shapes PytTorchModel Transformed: (1, 10)\n",
      "Shapes MyModel: (1, 10)\n",
      "\n",
      "Shapes PytTorchModel: (256, 784)\n",
      "Shapes PytTorchModel Transformed: (784, 256)\n",
      "Shapes MyModel: (784, 256)\n",
      "\n",
      "Shapes PytTorchModel: (10, 256)\n",
      "Shapes PytTorchModel Transformed: (256, 10)\n",
      "Shapes MyModel: (256, 10)\n",
      "\n"
     ]
    }
   ],
   "source": [
    "# Visualize Biases:\n",
    "for i in range(len(modelBiases)):\n",
    "    print(f\"Shapes PytTorchModel: {modelBiases[i].shape}\")\n",
    "    print(f\"Shapes PytTorchModel Transformed: {np.expand_dims(modelBiases[i], axis=0).shape}\")\n",
    "    print(f\"Shapes MyModel: {modelMNIST.biases[i].shape}\")\n",
    "    print()\n",
    "\n",
    "# Visualize Weights:\n",
    "for i in range(len(modelWeights)):\n",
    "    print(f\"Shapes PytTorchModel: {modelWeights[i].shape}\")\n",
    "    print(f\"Shapes PytTorchModel Transformed: {modelWeights[i].T.shape}\")\n",
    "    print(f\"Shapes MyModel: {modelMNIST.weights[i].shape}\")\n",
    "    print()"
   ]
  },
  {
   "cell_type": "code",
   "execution_count": 11,
   "metadata": {},
   "outputs": [],
   "source": [
    "# Change Biases:\n",
    "for i in range(len(modelBiases)):\n",
    "    modelMNIST.biases[i] = np.expand_dims(modelBiases[i], axis=0)\n",
    "\n",
    "# Change Weights:\n",
    "for i in range(len(modelWeights)):\n",
    "    modelMNIST.weights[i] = modelWeights[i].T"
   ]
  },
  {
   "cell_type": "code",
   "execution_count": 12,
   "metadata": {},
   "outputs": [],
   "source": [
    "import gzip\n",
    "\n",
    "# Load MNIST dataset\n",
    "def extract_images(filename):\n",
    "    with gzip.open(filename, 'rb') as f:\n",
    "        magic, num, rows, cols = np.frombuffer(f.read(16), dtype=np.uint32, count=4).byteswap()\n",
    "        images = np.frombuffer(f.read(), dtype=np.uint8).reshape(num, rows, cols)\n",
    "    return images\n",
    "\n",
    "def extract_labels(filename):\n",
    "    with gzip.open(filename, 'rb') as f:\n",
    "        magic, num = np.frombuffer(f.read(8), dtype=np.uint32, count=2).byteswap()\n",
    "        labels = np.frombuffer(f.read(), dtype=np.uint8)\n",
    "    return labels\n",
    "\n",
    "train_images = extract_images(\"./MNISTdata/train-images-idx3-ubyte.gz\")\n",
    "train_labels = extract_labels(\"./MNISTdata/train-labels-idx1-ubyte.gz\")\n",
    "test_images = extract_images(\"./MNISTdata/t10k-images-idx3-ubyte.gz\")\n",
    "test_labels = extract_labels(\"./MNISTdata/t10k-labels-idx1-ubyte.gz\")"
   ]
  },
  {
   "cell_type": "code",
   "execution_count": 13,
   "metadata": {},
   "outputs": [
    {
     "name": "stdout",
     "output_type": "stream",
     "text": [
      "Test Label: 7\n",
      "Predicted Label: [[0. 0. 0. 0. 0. 0. 0. 1. 0. 0.]]\n"
     ]
    }
   ],
   "source": [
    "testImage1 = np.expand_dims(test_images[0].flatten(), axis=0)\n",
    "print(f\"Test Label: {test_labels[0]}\")\n",
    "print(f\"Predicted Label: {modelMNIST.forward(testImage1)}\")"
   ]
  },
  {
   "cell_type": "code",
   "execution_count": 14,
   "metadata": {},
   "outputs": [
    {
     "data": {
      "text/plain": [
       "0.9392"
      ]
     },
     "execution_count": 14,
     "metadata": {},
     "output_type": "execute_result"
    }
   ],
   "source": [
    "correct = 0\n",
    "incorrect = 0\n",
    "for i in range(len(test_images)):\n",
    "    image = np.expand_dims(test_images[i].flatten(), axis=0)\n",
    "\n",
    "    if int(test_labels[i]) == int(modelMNIST.forward(image).argmax()):\n",
    "        correct += 1\n",
    "    else:\n",
    "        incorrect += 1\n",
    "\n",
    "(correct)/(correct+incorrect)"
   ]
  },
  {
   "cell_type": "markdown",
   "metadata": {},
   "source": [
    "# Implement Backpropagation"
   ]
  },
  {
   "cell_type": "code",
   "execution_count": 15,
   "metadata": {},
   "outputs": [],
   "source": [
    "import numpy as np\n",
    "\n",
    "class NeuralNetwork:\n",
    "    def __init__(self, input_size=784, hidden_layers=[512, 512], output_size=10):\n",
    "        self.input_size = input_size\n",
    "        self.hidden_layers = hidden_layers\n",
    "        self.output_size = output_size\n",
    "        self.weights = []\n",
    "        self.biases = []\n",
    "        self.gradientsWeights = []\n",
    "        self.gradientsBiases = []\n",
    "        self.iterations = 0\n",
    "\n",
    "        # Input to Hidden Layers Network\n",
    "        # np.random.seed(0)\n",
    "        self.weights.append(0.01 * np.random.randn(input_size, hidden_layers[0]))\n",
    "        self.biases.append(np.zeros((1, hidden_layers[0])))\n",
    "\n",
    "        # Hidden Layers Network\n",
    "        for i in range(len(hidden_layers)-1):\n",
    "            # np.random.seed(0)\n",
    "            self.weights.append(0.01 * np.random.randn(hidden_layers[i], hidden_layers[i+1]))\n",
    "            self.biases.append(np.zeros((1, hidden_layers[i+1])))\n",
    "        \n",
    "        # Hidden Layers Network to Output\n",
    "        # np.random.seed(0)\n",
    "        self.weights.append(0.01 * np.random.randn(hidden_layers[len(hidden_layers)-1], output_size))\n",
    "        self.biases.append(np.zeros((1, output_size)))\n",
    "\n",
    "    def forward(self, inputs):\n",
    "        self.outputs = [inputs]\n",
    "        self.outputsTesting = [\"inputs\"]\n",
    "\n",
    "        for i in range(len(self.weights)):\n",
    "            # Dot Product to \n",
    "            self.outputs.append(np.dot(self.outputs[-1], self.weights[i]) + self.biases[i])\n",
    "            self.outputsTesting.append(\"dense\")\n",
    "\n",
    "            # Activation Functions (ReLU + SoftMax)\n",
    "            if i == len(self.weights)-1:\n",
    "                finalOutput = np.exp(self.outputs[-1] - np.max(self.outputs[-1], axis=1, keepdims=True))\n",
    "                finalOutput = finalOutput / np.sum(finalOutput, axis=1, keepdims=True)\n",
    "                self.outputs.append(finalOutput)\n",
    "                self.outputsTesting.append(\"softmax\")\n",
    "            else:\n",
    "                self.outputs.append(np.maximum(0, self.outputs[-1]))\n",
    "                self.outputsTesting.append(\"relu\")\n",
    "        \n",
    "        return self.outputs[-1]\n",
    "    \n",
    "    def backwards(self, y_true):\n",
    "        # Softmax + LossCategoricalEntropy \n",
    "        #       -> Still don't fully understand the derivation for this (working on it)\n",
    "        #       -> I roughly understand the following code but it was extracted from the nnfs textbook\n",
    "        #       -> nnfs textBook -> https://nnfs.io/\n",
    "\n",
    "        # Number of samples\n",
    "        samples = len(self.outputs[-1])\n",
    "\n",
    "        # If labels are one-hot encoded,\n",
    "        # turn them into discrete values\n",
    "        if len(y_true.shape) == 2:\n",
    "            print(\"Chaning to Discrete Values\")\n",
    "            y_true = np.argmax(y_true, axis=1)\n",
    "\n",
    "        # Copy so we can safely modify\n",
    "        dSoftMaxCrossEntropy = self.outputs[-1].copy()\n",
    "        # Calculate gradient\n",
    "        dSoftMaxCrossEntropy[range(samples), y_true] -= 1\n",
    "        # Normalize gradient\n",
    "        dSoftMaxCrossEntropy = dSoftMaxCrossEntropy / samples\n",
    "        # print(dSoftMaxCrossEntropy)\n",
    "\n",
    "        # print(dSoftMaxCrossEntropy)\n",
    "        # Calculate gradients -> Calcualte derivative of weights, biases, and inputs (to continue to backpropagate)\n",
    "        dInputs = np.dot(dSoftMaxCrossEntropy.copy(), self.weights[-1].T)\n",
    "\n",
    "        dWeights = np.dot(self.outputs[-3].T, dSoftMaxCrossEntropy.copy())\n",
    "        dBiases = np.sum(dSoftMaxCrossEntropy.copy(), axis=0, keepdims=True)\n",
    "        self.gradientsWeights = [dWeights] + self.gradientsWeights\n",
    "        self.gradientsBiases = [dBiases] + self.gradientsBiases\n",
    "\n",
    "\n",
    "        i = -3\n",
    "        j = -1\n",
    "        for _ in range(len(self.hidden_layers)):\n",
    "            i -= 1\n",
    "            j -= 1\n",
    "            \n",
    "            # ReLU activation Function\n",
    "            dInputsReLU = dInputs.copy()\n",
    "            dInputsReLU[self.outputs[i] <= 0] = 0\n",
    "            \n",
    "            i -= 1\n",
    "            dInputs = np.dot(dInputsReLU, self.weights[j].T)\n",
    "            dWeights = np.dot(self.outputs[i].T, dInputsReLU)\n",
    "            dBiases = np.sum(dInputsReLU, axis=0, keepdims=True)\n",
    "            self.gradientsWeights = [dWeights] + self.gradientsWeights\n",
    "            self.gradientsBiases = [dBiases] + self.gradientsBiases\n",
    "\n",
    "        # print(\"dense1.dweights\")\n",
    "        # print(dWeights)\n",
    "        # print(dWeights.shape)\n",
    "        # print(\"dense1.dbiases\")\n",
    "        # print(dBiases)\n",
    "        # print(dBiases.shape)\n",
    "    \n",
    "    def updateParams(self, lr=0.05, decay=1e-7):\n",
    "        lr = lr * (1. / (1. + decay * self.iterations))\n",
    "\n",
    "        for i in range(len(self.weights)-1):\n",
    "            if i != len(self.weights)-1:\n",
    "                assert self.weights[i].shape == self.gradientsWeights[i].shape\n",
    "                self.weights[i] += -lr*self.gradientsWeights[i]\n",
    "        \n",
    "        for i in range(len(self.biases)-1):\n",
    "            if i != len(self.biases)-1:\n",
    "                assert self.biases[i].shape == self.gradientsBiases[i].shape\n",
    "                self.biases[i] += -lr*self.gradientsBiases[i]\n",
    "        \n",
    "        # print(f\"Learning Rate: {lr}\")\n",
    "        \n",
    "        self.iterations += 1\n",
    "\n",
    "# LossCategoricalCrossEntropy implementation\n",
    "def LossCategoricalCrossEntropy(yPred, yTrue):\n",
    "    # If predicted class has a prediction of 0% likelihood this prevents log(0), which would be infinity\n",
    "    yPred = np.clip(yPred, 1e-10, 1 - 1e-10)\n",
    "\n",
    "    # We calculate the sum of the log losses\n",
    "    loss = -np.sum(yTrue * np.log(yPred), axis=1)\n",
    "\n",
    "    # We calculate the average loss - this depends on the number of samples\n",
    "    # So the return loss is the average loss not the summed up loss (which took me a while to understand)\n",
    "    average_loss = np.mean(loss)\n",
    "\n",
    "    return average_loss\n",
    "\n",
    "def sparse_to_one_hot(sparse_labels, num_classes):\n",
    "    one_hot_encoded = np.zeros((len(sparse_labels), num_classes))\n",
    "    one_hot_encoded[np.arange(len(sparse_labels)), sparse_labels] = 1\n",
    "    return one_hot_encoded\n"
   ]
  },
  {
   "cell_type": "code",
   "execution_count": 16,
   "metadata": {},
   "outputs": [],
   "source": [
    "myNeuralNet = NeuralNetwork(hidden_layers=[128, 128])"
   ]
  },
  {
   "cell_type": "code",
   "execution_count": 17,
   "metadata": {},
   "outputs": [],
   "source": [
    "train_images = extract_images(\"./MNISTdata/train-images-idx3-ubyte.gz\")\n",
    "train_labels = extract_labels(\"./MNISTdata/train-labels-idx1-ubyte.gz\")\n",
    "test_images = extract_images(\"./MNISTdata/t10k-images-idx3-ubyte.gz\")\n",
    "test_labels = extract_labels(\"./MNISTdata/t10k-labels-idx1-ubyte.gz\")"
   ]
  },
  {
   "cell_type": "markdown",
   "metadata": {},
   "source": [
    "# MNIST TRAINING"
   ]
  },
  {
   "cell_type": "code",
   "execution_count": 18,
   "metadata": {},
   "outputs": [
    {
     "name": "stdout",
     "output_type": "stream",
     "text": [
      "epoch: 1\n",
      "epoch: 1, acc: 0.156, loss: 2.302\n",
      "epoch: 1, acc: 0.531, loss: 1.726\n",
      "epoch: 1, acc: 0.719, loss: 0.736\n",
      "epoch: 1, acc: 0.719, loss: 0.752\n",
      "epoch: 1, acc: 0.938, loss: 0.380\n",
      "epoch: 1, acc: 0.906, loss: 0.561\n",
      "epoch: 1, acc: 0.906, loss: 0.276\n",
      "epoch: 1, acc: 0.969, loss: 0.205\n",
      "epoch: 1, acc: 0.844, loss: 0.255\n",
      "epoch: 1, acc: 0.906, loss: 0.194\n",
      "epoch: 1, acc: 0.875, loss: 0.368\n",
      "epoch: 1, acc: 0.875, loss: 0.416\n",
      "epoch: 1, acc: 0.938, loss: 0.239\n",
      "epoch: 1, acc: 0.844, loss: 0.420\n",
      "epoch: 1, acc: 0.875, loss: 0.282\n",
      "epoch: 1, acc: 0.938, loss: 0.216\n",
      "epoch: 1, acc: 0.875, loss: 0.344\n",
      "epoch: 1, acc: 0.875, loss: 0.225\n",
      "epoch: 1, acc: 0.938, loss: 0.246\n",
      "epoch: 2\n",
      "epoch: 2, acc: 0.906, loss: 0.204\n",
      "epoch: 2, acc: 0.875, loss: 0.327\n",
      "epoch: 2, acc: 0.938, loss: 0.222\n",
      "epoch: 2, acc: 1.000, loss: 0.065\n",
      "epoch: 2, acc: 0.969, loss: 0.152\n",
      "epoch: 2, acc: 0.875, loss: 0.262\n",
      "epoch: 2, acc: 0.875, loss: 0.205\n",
      "epoch: 2, acc: 0.969, loss: 0.104\n",
      "epoch: 2, acc: 0.938, loss: 0.121\n",
      "epoch: 2, acc: 0.969, loss: 0.099\n",
      "epoch: 2, acc: 0.938, loss: 0.328\n",
      "epoch: 2, acc: 0.906, loss: 0.271\n",
      "epoch: 2, acc: 0.938, loss: 0.179\n",
      "epoch: 2, acc: 0.875, loss: 0.328\n",
      "epoch: 2, acc: 0.906, loss: 0.263\n",
      "epoch: 2, acc: 0.969, loss: 0.146\n",
      "epoch: 2, acc: 0.906, loss: 0.188\n",
      "epoch: 2, acc: 0.969, loss: 0.105\n",
      "epoch: 2, acc: 0.938, loss: 0.173\n"
     ]
    }
   ],
   "source": [
    "data = train_images\n",
    "dataLabels = train_labels\n",
    "\n",
    "# Normalize\n",
    "data = (data.astype(np.float32)-127.5)/127.5\n",
    "\n",
    "data = data.reshape(60000, 784)\n",
    "\n",
    "accuracies = []\n",
    "losses = []\n",
    "\n",
    "BATCH_SIZE = 32\n",
    "\n",
    "# Main training loop\n",
    "for epoch in range(1, 3):\n",
    "    print(f'epoch: {epoch}')\n",
    "    train_steps = len(data) // BATCH_SIZE\n",
    "\n",
    "    for step in range(train_steps):\n",
    "        batch_X = data[step*BATCH_SIZE:(step+1)*BATCH_SIZE]\n",
    "        batch_y = dataLabels[step*BATCH_SIZE:(step+1)*BATCH_SIZE]\n",
    "\n",
    "        X = batch_X\n",
    "        y = batch_y\n",
    "\n",
    "        output = myNeuralNet.forward(X)\n",
    "\n",
    "        if step % 100 == 0:\n",
    "            predictions = np.argmax(output, axis=1)\n",
    "            if len(y.shape) == 2:\n",
    "                y = np.argmax(y, axis=1)\n",
    "            accuracy = np.mean(predictions==y)\n",
    "\n",
    "            loss = LossCategoricalCrossEntropy(output, sparse_to_one_hot(y, 10))\n",
    "            accuracies.append(accuracy)\n",
    "            losses.append(loss)\n",
    "\n",
    "            print(f'epoch: {epoch}, ' +\n",
    "                    f'acc: {accuracy:.3f}, ' +\n",
    "                    f'loss: {loss:.3f}')\n",
    "        \n",
    "        # Backward pass\n",
    "        myNeuralNet.backwards(y)\n",
    "\n",
    "        # Update weights and biases\n",
    "        myNeuralNet.updateParams(lr=0.5, decay=1e-6)"
   ]
  },
  {
   "cell_type": "code",
   "execution_count": 19,
   "metadata": {},
   "outputs": [
    {
     "name": "stdout",
     "output_type": "stream",
     "text": [
      "(10000, 28, 28)\n",
      "0.9458\n"
     ]
    }
   ],
   "source": [
    "dataTest = test_images\n",
    "dataTestLabels = test_labels\n",
    "\n",
    "# Normalize\n",
    "dataTest = (dataTest.astype(np.float32)-127.5)/127.5\n",
    "print(dataTest.shape)\n",
    "dataTest = dataTest.reshape(10000, 784)\n",
    "\n",
    "X = dataTest\n",
    "y = dataTestLabels\n",
    "\n",
    "output = myNeuralNet.forward(dataTest)\n",
    "\n",
    "predictions = np.argmax(output, axis=1)\n",
    "if len(y.shape) == 2:\n",
    "    y = np.argmax(y, axis=1)\n",
    "accuracy = np.mean(predictions==y)\n",
    "print(accuracy)"
   ]
  },
  {
   "cell_type": "code",
   "execution_count": 20,
   "metadata": {},
   "outputs": [
    {
     "data": {
      "text/plain": [
       "[<matplotlib.lines.Line2D at 0x12b2c3980>]"
      ]
     },
     "execution_count": 20,
     "metadata": {},
     "output_type": "execute_result"
    },
    {
     "data": {
      "image/png": "[encoded data removed]",
      "text/plain": [
       "<Figure size 640x480 with 1 Axes>"
      ]
     },
     "metadata": {},
     "output_type": "display_data"
    }
   ],
   "source": [
    "import matplotlib.pyplot as mp\n",
    "\n",
    "mp.plot(losses)\n",
    "mp.plot(accuracies)"
   ]
  },
  {
   "cell_type": "markdown",
   "metadata": {},
   "source": [
    "### Testing"
   ]
  },
  {
   "cell_type": "code",
   "execution_count": 23,
   "metadata": {},
   "outputs": [
    {
     "name": "stdout",
     "output_type": "stream",
     "text": [
      "Probabilities: [[6.72233603e-06 2.06703406e-05 4.82291448e-05 7.99822579e-05\n",
      "  2.08640683e-03 5.65365958e-03 5.14821221e-05 3.41608432e-07\n",
      "  9.91541197e-01 5.11308665e-04]]\n",
      "Prediction: [8]\n"
     ]
    },
    {
     "data": {
      "text/plain": [
       "<matplotlib.image.AxesImage at 0x12b456c90>"
      ]
     },
     "execution_count": 23,
     "metadata": {},
     "output_type": "execute_result"
    },
    {
     "data": {
      "image/png": "[encoded data removed]",
      "text/plain": [
       "<Figure size 640x480 with 1 Axes>"
      ]
     },
     "metadata": {},
     "output_type": "display_data"
    }
   ],
   "source": [
    "import matplotlib.pyplot as mp\n",
    "dataTest = test_images\n",
    "dataTestLabels = test_labels\n",
    "\n",
    "# Normalize\n",
    "dataTest = (dataTest.astype(np.float32)-127.5)/127.5\n",
    "dataTest = dataTest.reshape(10000, 784)\n",
    "\n",
    "X = dataTest[84]\n",
    "y = dataTestLabels[84]\n",
    "\n",
    "output = myNeuralNet.forward(X)\n",
    "print(f\"Probabilities: {output}\")\n",
    "\n",
    "prediction = np.argmax(output, axis=1)\n",
    "print(f\"Prediction: {prediction}\")\n",
    "\n",
    "mp.imshow(X.reshape(28, 28))"
   ]
  },
  {
   "cell_type": "code",
   "execution_count": 20,
   "metadata": {},
   "outputs": [
    {
     "name": "stdout",
     "output_type": "stream",
     "text": [
      "Probabilities: [[1.89282478e-05 3.09118759e-07 6.89774587e-04 1.23065375e-04\n",
      "  1.66297295e-02 9.21654062e-05 1.54462818e-05 5.55489616e-03\n",
      "  1.00095351e-03 9.75874732e-01]]\n",
      "Prediction: [9]\n"
     ]
    },
    {
     "data": {
      "text/plain": [
       "<matplotlib.image.AxesImage at 0x13ec3bb30>"
      ]
     },
     "execution_count": 20,
     "metadata": {},
     "output_type": "execute_result"
    },
    {
     "data": {
      "image/png": "[encoded data removed]",
      "text/plain": [
       "<Figure size 640x480 with 1 Axes>"
      ]
     },
     "metadata": {},
     "output_type": "display_data"
    }
   ],
   "source": [
    "X = dataTest[678]\n",
    "y = dataTestLabels[678]\n",
    "\n",
    "output = myNeuralNet.forward(X)\n",
    "print(f\"Probabilities: {output}\")\n",
    "\n",
    "prediction = np.argmax(output, axis=1)\n",
    "print(f\"Prediction: {prediction}\")\n",
    "\n",
    "mp.imshow(X.reshape(28, 28))"
   ]
  },
  {
   "cell_type": "code",
   "execution_count": 21,
   "metadata": {},
   "outputs": [
    {
     "name": "stdout",
     "output_type": "stream",
     "text": [
      "Probabilities: [[2.60296771e-04 3.43802612e-06 1.09459891e-05 4.91435851e-03\n",
      "  5.20278722e-07 9.89967740e-01 1.67140827e-06 2.18113438e-07\n",
      "  4.73429316e-03 1.06518179e-04]]\n",
      "Prediction: [5]\n"
     ]
    },
    {
     "data": {
      "text/plain": [
       "<matplotlib.image.AxesImage at 0x13ed045f0>"
      ]
     },
     "execution_count": 21,
     "metadata": {},
     "output_type": "execute_result"
    },
    {
     "data": {
      "image/png": "[encoded data removed]",
      "text/plain": [
       "<Figure size 640x480 with 1 Axes>"
      ]
     },
     "metadata": {},
     "output_type": "display_data"
    }
   ],
   "source": [
    "X = dataTest[2948]\n",
    "y = dataTestLabels[2948]\n",
    "\n",
    "output = myNeuralNet.forward(X)\n",
    "print(f\"Probabilities: {output}\")\n",
    "\n",
    "prediction = np.argmax(output, axis=1)\n",
    "print(f\"Prediction: {prediction}\")\n",
    "\n",
    "mp.imshow(X.reshape(28, 28))"
   ]
  },
  {
   "cell_type": "code",
   "execution_count": 22,
   "metadata": {},
   "outputs": [
    {
     "name": "stdout",
     "output_type": "stream",
     "text": [
      "Probabilities: [[1.26853482e-01 1.59458412e-07 8.59649456e-04 1.58911193e-04\n",
      "  1.12798598e-03 9.27510050e-03 8.57414644e-06 1.47115275e-01\n",
      "  9.17331348e-04 7.13683531e-01]]\n",
      "Prediction: [9]\n"
     ]
    },
    {
     "data": {
      "text/plain": [
       "<matplotlib.image.AxesImage at 0x13ed7ff80>"
      ]
     },
     "execution_count": 22,
     "metadata": {},
     "output_type": "execute_result"
    },
    {
     "data": {
      "image/png": "[encoded data removed]",
      "text/plain": [
       "<Figure size 640x480 with 1 Axes>"
      ]
     },
     "metadata": {},
     "output_type": "display_data"
    }
   ],
   "source": [
    "X = dataTest[1096]\n",
    "y = dataTestLabels[1096]\n",
    "\n",
    "output = myNeuralNet.forward(X)\n",
    "print(f\"Probabilities: {output}\")\n",
    "\n",
    "prediction = np.argmax(output, axis=1)\n",
    "print(f\"Prediction: {prediction}\")\n",
    "\n",
    "mp.imshow(X.reshape(28, 28))"
   ]
  },
  {
   "cell_type": "code",
   "execution_count": 23,
   "metadata": {},
   "outputs": [
    {
     "name": "stdout",
     "output_type": "stream",
     "text": [
      "Probabilities: [[2.83653272e-03 2.24805255e-06 1.51147205e-02 3.92532338e-05\n",
      "  1.77981975e-02 1.46860693e-02 9.40766083e-01 2.81519415e-06\n",
      "  7.85131784e-03 9.02762283e-04]]\n",
      "Prediction: [6]\n"
     ]
    },
    {
     "data": {
      "image/png": "[encoded data removed]",
      "text/plain": [
       "<Figure size 640x480 with 1 Axes>"
      ]
     },
     "metadata": {},
     "output_type": "display_data"
    }
   ],
   "source": [
    "import matplotlib.pyplot as plt\n",
    "for i in range(len(dataTest)):\n",
    "    X = dataTest[i]\n",
    "    y = dataTestLabels[i]\n",
    "\n",
    "    output = myNeuralNet.forward(X)\n",
    "    prediction = np.argmax(output, axis=1)\n",
    "    if prediction[0] != y:\n",
    "        print(f\"Probabilities: {output}\")\n",
    "        print(f\"Prediction: {prediction}\")\n",
    "\n",
    "        mp.imshow(X.reshape(28, 28))\n",
    "        break"
   ]
  },
  {
   "cell_type": "code",
   "execution_count": 25,
   "metadata": {},
   "outputs": [
    {
     "name": "stdout",
     "output_type": "stream",
     "text": [
      "Probabilities: [[9.39246322e-05 6.48123238e-04 1.09549074e-04 8.56482577e-03\n",
      "  3.85084611e-05 2.69276059e-03 4.47820228e-05 7.94943588e-07\n",
      "  9.87530772e-01 2.75959191e-04]]\n",
      "Prediction: [8]\n"
     ]
    },
    {
     "data": {
      "image/png": "[encoded data removed]",
      "text/plain": [
       "<Figure size 640x480 with 1 Axes>"
      ]
     },
     "metadata": {},
     "output_type": "display_data"
    }
   ],
   "source": [
    "import matplotlib.pyplot as plt\n",
    "\n",
    "split = dataTest[100:]\n",
    "splitLabels = dataTestLabels[100:]\n",
    "for i in range(len(dataTest)):\n",
    "    X = split[i]\n",
    "    y = splitLabels[i]\n",
    "\n",
    "    output = myNeuralNet.forward(X)\n",
    "    prediction = np.argmax(output, axis=1)\n",
    "    if y == 8:\n",
    "        if prediction[0] == y:\n",
    "            print(f\"Probabilities: {output}\")\n",
    "            print(f\"Prediction: {prediction}\")\n",
    "\n",
    "            mp.imshow(X.reshape(28, 28))\n",
    "            break"
   ]
  },
  {
   "cell_type": "code",
   "execution_count": 26,
   "metadata": {},
   "outputs": [
    {
     "data": {
      "image/png": "[encoded data removed]",
      "text/plain": [
       "<Figure size 1000x800 with 12 Axes>"
      ]
     },
     "metadata": {},
     "output_type": "display_data"
    }
   ],
   "source": [
    "incorrect_images = []\n",
    "incorrect_labels = []\n",
    "incorrect_predictions = []\n",
    "\n",
    "for i in range(len(dataTest)):\n",
    "    X = dataTest[i]\n",
    "    y = dataTestLabels[i]\n",
    "\n",
    "    output = myNeuralNet.forward(X)\n",
    "    prediction = np.argmax(output, axis=1)\n",
    "    if prediction[0] != y:\n",
    "        incorrect_images.append(X)\n",
    "        incorrect_labels.append(y)\n",
    "        incorrect_predictions.append(prediction[0])\n",
    "        \n",
    "        if len(incorrect_images) == 12:\n",
    "            break\n",
    "\n",
    "fig, axes = plt.subplots(3, 4, figsize=(10, 8))\n",
    "axes = axes.ravel()\n",
    "\n",
    "for i in range(12):\n",
    "    axes[i].imshow(incorrect_images[i].reshape(28, 28), cmap='gray')\n",
    "    axes[i].set_title(f'True: {incorrect_labels[i]}, Pred: {incorrect_predictions[i]}')\n",
    "    axes[i].axis('off')\n",
    "\n",
    "plt.tight_layout()\n",
    "plt.show()\n"
   ]
  },
  {
   "cell_type": "markdown",
   "metadata": {},
   "source": [
    "## Testing Own Images"
   ]
  },
  {
   "cell_type": "code",
   "execution_count": 30,
   "metadata": {},
   "outputs": [
    {
     "name": "stdout",
     "output_type": "stream",
     "text": [
      "Probabilities: [[1.72608044e-05 2.99158518e-05 1.45028183e-02 5.44665390e-03\n",
      "  5.24632333e-07 9.74875468e-01 3.53298656e-04 8.42822044e-10\n",
      "  4.77395929e-03 9.98493741e-08]]\n",
      "Prediction: [5]\n"
     ]
    },
    {
     "data": {
      "text/plain": [
       "<matplotlib.image.AxesImage at 0x11b27d850>"
      ]
     },
     "execution_count": 30,
     "metadata": {},
     "output_type": "execute_result"
    },
    {
     "data": {
      "image/png": "[encoded data removed]",
      "text/plain": [
       "<Figure size 640x480 with 1 Axes>"
      ]
     },
     "metadata": {},
     "output_type": "display_data"
    }
   ],
   "source": [
    "from PIL import Image\n",
    "import numpy as np\n",
    "\n",
    "image_path = './testImages/Number5.png'  # replace with your image path\n",
    "image = Image.open(image_path)\n",
    "\n",
    "gray_image = image.convert('L')\n",
    "\n",
    "# Step 4: Convert the image to a NumPy array\n",
    "image_array = np.array(gray_image)\n",
    "image_array = (image_array.astype(np.float32)-127.5)/127.5\n",
    "image_array = image_array.reshape(1, 784)\n",
    "\n",
    "\n",
    "output = myNeuralNet.forward(image_array)\n",
    "print(f\"Probabilities: {output}\")\n",
    "\n",
    "prediction = np.argmax(output, axis=1)\n",
    "print(f\"Prediction: {prediction}\")\n",
    "\n",
    "mp.imshow(image_array.reshape(28, 28))\n"
   ]
  },
  {
   "cell_type": "markdown",
   "metadata": {},
   "source": [
    "## Fashion MNIST"
   ]
  },
  {
   "cell_type": "code",
   "execution_count": 31,
   "metadata": {},
   "outputs": [],
   "source": [
    "def load_mnist(path, kind='train'):\n",
    "    import os\n",
    "    import gzip\n",
    "    import numpy as np\n",
    "\n",
    "    \"\"\"Load MNIST data from `path`\"\"\"\n",
    "    labels_path = os.path.join(path,\n",
    "                               '%s-labels-idx1-ubyte.gz'\n",
    "                               % kind)\n",
    "    images_path = os.path.join(path,\n",
    "                               '%s-images-idx3-ubyte.gz'\n",
    "                               % kind)\n",
    "\n",
    "    with gzip.open(labels_path, 'rb') as lbpath:\n",
    "        labels = np.frombuffer(lbpath.read(), dtype=np.uint8,\n",
    "                               offset=8)\n",
    "\n",
    "    with gzip.open(images_path, 'rb') as imgpath:\n",
    "        images = np.frombuffer(imgpath.read(), dtype=np.uint8,\n",
    "                               offset=16).reshape(len(labels), 784)\n",
    "\n",
    "    return images, labels"
   ]
  },
  {
   "cell_type": "code",
   "execution_count": 28,
   "metadata": {},
   "outputs": [],
   "source": [
    "# !wget http://fashion-mnist.s3-website.eu-central-1.amazonaws.com/train-images-idx3-ubyte.gz -P ./fashionMNIST/\n",
    "# !wget http://fashion-mnist.s3-website.eu-central-1.amazonaws.com/train-labels-idx1-ubyte.gz -P ./fashionMNIST/\n",
    "# !wget http://fashion-mnist.s3-website.eu-central-1.amazonaws.com/t10k-images-idx3-ubyte.gz -P ./fashionMNIST/\n",
    "# !wget http://fashion-mnist.s3-website.eu-central-1.amazonaws.com/t10k-labels-idx1-ubyte.gz -P ./fashionMNIST/"
   ]
  },
  {
   "cell_type": "code",
   "execution_count": 32,
   "metadata": {},
   "outputs": [],
   "source": [
    "X_train, y_train = load_mnist('fashionMNIST', kind='train')\n",
    "X_test, y_test = load_mnist('fashionMNIST', kind='t10k')\n",
    "\n",
    "modelFashionMNIST = NeuralNetwork(hidden_layers=[256, 256])"
   ]
  },
  {
   "cell_type": "code",
   "execution_count": 33,
   "metadata": {},
   "outputs": [
    {
     "name": "stdout",
     "output_type": "stream",
     "text": [
      "epoch: 1\n",
      "epoch: 1, acc: 0.031, loss: 2.302\n",
      "epoch: 1, acc: 0.562, loss: 1.092\n",
      "epoch: 1, acc: 0.781, loss: 0.500\n",
      "epoch: 1, acc: 0.781, loss: 0.716\n",
      "epoch: 1, acc: 0.844, loss: 0.465\n",
      "epoch: 1, acc: 0.656, loss: 0.970\n",
      "epoch: 1, acc: 0.875, loss: 0.457\n",
      "epoch: 1, acc: 0.875, loss: 0.298\n",
      "epoch: 1, acc: 0.812, loss: 0.470\n",
      "epoch: 1, acc: 0.875, loss: 0.473\n",
      "epoch: 1, acc: 0.750, loss: 0.556\n",
      "epoch: 1, acc: 0.812, loss: 0.475\n",
      "epoch: 1, acc: 0.844, loss: 0.465\n",
      "epoch: 1, acc: 0.750, loss: 0.731\n",
      "epoch: 1, acc: 0.781, loss: 0.610\n",
      "epoch: 1, acc: 0.844, loss: 0.394\n",
      "epoch: 1, acc: 0.812, loss: 0.530\n",
      "epoch: 1, acc: 0.812, loss: 0.459\n",
      "epoch: 1, acc: 0.750, loss: 0.512\n",
      "epoch: 2\n",
      "epoch: 2, acc: 0.875, loss: 0.307\n",
      "epoch: 2, acc: 0.812, loss: 0.358\n",
      "epoch: 2, acc: 0.969, loss: 0.230\n",
      "epoch: 2, acc: 0.812, loss: 0.535\n",
      "epoch: 2, acc: 0.906, loss: 0.308\n",
      "epoch: 2, acc: 0.844, loss: 0.790\n",
      "epoch: 2, acc: 0.875, loss: 0.311\n",
      "epoch: 2, acc: 0.938, loss: 0.233\n",
      "epoch: 2, acc: 0.875, loss: 0.336\n",
      "epoch: 2, acc: 0.875, loss: 0.370\n",
      "epoch: 2, acc: 0.812, loss: 0.518\n",
      "epoch: 2, acc: 0.781, loss: 0.407\n",
      "epoch: 2, acc: 0.844, loss: 0.351\n",
      "epoch: 2, acc: 0.750, loss: 0.584\n",
      "epoch: 2, acc: 0.812, loss: 0.539\n",
      "epoch: 2, acc: 0.812, loss: 0.343\n",
      "epoch: 2, acc: 0.844, loss: 0.405\n",
      "epoch: 2, acc: 0.844, loss: 0.431\n",
      "epoch: 2, acc: 0.750, loss: 0.451\n"
     ]
    }
   ],
   "source": [
    "data = X_train\n",
    "dataLabels = y_train\n",
    "\n",
    "# Normalize\n",
    "data = (data.astype(np.float32)-127.5)/127.5\n",
    "\n",
    "data = data.reshape(60000, 784)\n",
    "\n",
    "accuracies = []\n",
    "losses = []\n",
    "\n",
    "BATCH_SIZE = 32\n",
    "\n",
    "# Main training loop\n",
    "for epoch in range(1, 3):\n",
    "    print(f'epoch: {epoch}')\n",
    "    train_steps = len(data) // BATCH_SIZE\n",
    "\n",
    "    for step in range(train_steps):\n",
    "        batch_X = data[step*BATCH_SIZE:(step+1)*BATCH_SIZE]\n",
    "        batch_y = dataLabels[step*BATCH_SIZE:(step+1)*BATCH_SIZE]\n",
    "\n",
    "        X = batch_X\n",
    "        y = batch_y\n",
    "\n",
    "        output = modelFashionMNIST.forward(X)\n",
    "\n",
    "        if step % 100 == 0:\n",
    "            predictions = np.argmax(output, axis=1)\n",
    "            if len(y.shape) == 2:\n",
    "                y = np.argmax(y, axis=1)\n",
    "            accuracy = np.mean(predictions==y)\n",
    "\n",
    "            loss = LossCategoricalCrossEntropy(output, sparse_to_one_hot(y, 10))\n",
    "            accuracies.append(accuracy)\n",
    "            losses.append(loss)\n",
    "\n",
    "            print(f'epoch: {epoch}, ' +\n",
    "                    f'acc: {accuracy:.3f}, ' +\n",
    "                    f'loss: {loss:.3f}')\n",
    "        \n",
    "        # Backward pass\n",
    "        modelFashionMNIST.backwards(y)\n",
    "\n",
    "        # Update weights and biases\n",
    "        modelFashionMNIST.updateParams(lr=0.8, decay=1e-6)"
   ]
  },
  {
   "cell_type": "code",
   "execution_count": 34,
   "metadata": {},
   "outputs": [
    {
     "name": "stdout",
     "output_type": "stream",
     "text": [
      "(10000, 784)\n",
      "0.8589\n"
     ]
    }
   ],
   "source": [
    "dataTest = X_test\n",
    "dataTestLabels = y_test\n",
    "\n",
    "# Normalize\n",
    "dataTest = (dataTest.astype(np.float32)-127.5)/127.5\n",
    "print(dataTest.shape)\n",
    "dataTest = dataTest.reshape(10000, 784)\n",
    "\n",
    "X = dataTest\n",
    "y = dataTestLabels\n",
    "\n",
    "output = modelFashionMNIST.forward(dataTest)\n",
    "\n",
    "predictions = np.argmax(output, axis=1)\n",
    "if len(y.shape) == 2:\n",
    "    y = np.argmax(y, axis=1)\n",
    "accuracy = np.mean(predictions==y)\n",
    "print(accuracy)"
   ]
  },
  {
   "cell_type": "markdown",
   "metadata": {},
   "source": [
    "### Testing"
   ]
  },
  {
   "cell_type": "code",
   "execution_count": null,
   "metadata": {},
   "outputs": [
    {
     "name": "stdout",
     "output_type": "stream",
     "text": [
      "Probabilities: [[8.06463689e-07 2.30473905e-09 7.86626179e-08 2.06700302e-08\n",
      "  2.13021525e-07 1.93473061e-05 3.65895679e-08 1.19889792e-06\n",
      "  9.99978158e-01 1.37640107e-07]]\n",
      "Label: 8\n",
      "Prediction: [8]\n"
     ]
    },
    {
     "data": {
      "text/plain": [
       "<matplotlib.image.AxesImage at 0x136b18ce0>"
      ]
     },
     "execution_count": 7,
     "metadata": {},
     "output_type": "execute_result"
    },
    {
     "data": {
      "image/png": "[encoded data removed]",
      "text/plain": [
       "<Figure size 640x480 with 1 Axes>"
      ]
     },
     "metadata": {},
     "output_type": "display_data"
    }
   ],
   "source": [
    "import matplotlib.pyplot as mp\n",
    "dataTest = X_test\n",
    "dataTestLabels = y_test\n",
    "\n",
    "# Normalize\n",
    "dataTest = (dataTest.astype(np.float32)-127.5)/127.5\n",
    "dataTest = dataTest.reshape(10000, 784)\n",
    "\n",
    "X = dataTest[78]\n",
    "y = dataTestLabels[78]\n",
    "\n",
    "output = modelFashionMNIST.forward(X)\n",
    "print(f\"Probabilities: {output}\")\n",
    "\n",
    "prediction = np.argmax(output, axis=1)\n",
    "print(f\"Label: {y}\")\n",
    "print(f\"Prediction: {prediction}\")\n",
    "\n",
    "mp.imshow(X.reshape(28, 28))"
   ]
  },
  {
   "cell_type": "code",
   "execution_count": null,
   "metadata": {},
   "outputs": [
    {
     "name": "stdout",
     "output_type": "stream",
     "text": [
      "Probabilities: [[5.69649727e-06 9.99960434e-01 2.05495824e-07 3.26783056e-05\n",
      "  2.89381355e-07 7.11013733e-09 6.42671936e-07 6.11688683e-09\n",
      "  3.87351737e-08 1.28297907e-09]]\n",
      "Label: 1\n",
      "Prediction: [1]\n"
     ]
    },
    {
     "data": {
      "text/plain": [
       "<matplotlib.image.AxesImage at 0x136b523f0>"
      ]
     },
     "execution_count": 8,
     "metadata": {},
     "output_type": "execute_result"
    },
    {
     "data": {
      "image/png": "[encoded data removed]",
      "text/plain": [
       "<Figure size 640x480 with 1 Axes>"
      ]
     },
     "metadata": {},
     "output_type": "display_data"
    }
   ],
   "source": [
    "X = dataTest[345]\n",
    "y = dataTestLabels[345]\n",
    "\n",
    "output = modelFashionMNIST.forward(X)\n",
    "print(f\"Probabilities: {output}\")\n",
    "\n",
    "prediction = np.argmax(output, axis=1)\n",
    "print(f\"Label: {y}\")\n",
    "print(f\"Prediction: {prediction}\")\n",
    "\n",
    "mp.imshow(X.reshape(28, 28))"
   ]
  },
  {
   "cell_type": "code",
   "execution_count": null,
   "metadata": {},
   "outputs": [
    {
     "name": "stdout",
     "output_type": "stream",
     "text": [
      "Probabilities: [[1.15353789e-02 3.40824799e-05 8.60011110e-01 2.43933523e-04\n",
      "  8.19118557e-03 1.62324866e-04 1.17590108e-01 1.43684751e-06\n",
      "  2.21838780e-03 1.20518320e-05]]\n",
      "Label: 2\n",
      "Prediction: [2]\n"
     ]
    },
    {
     "data": {
      "text/plain": [
       "<matplotlib.image.AxesImage at 0x136bb7e00>"
      ]
     },
     "execution_count": 9,
     "metadata": {},
     "output_type": "execute_result"
    },
    {
     "data": {
      "image/png": "[encoded data removed]",
      "text/plain": [
       "<Figure size 640x480 with 1 Axes>"
      ]
     },
     "metadata": {},
     "output_type": "display_data"
    }
   ],
   "source": [
    "X = dataTest[3456]\n",
    "y = dataTestLabels[3456]\n",
    "\n",
    "output = modelFashionMNIST.forward(X)\n",
    "print(f\"Probabilities: {output}\")\n",
    "\n",
    "prediction = np.argmax(output, axis=1)\n",
    "print(f\"Label: {y}\")\n",
    "print(f\"Prediction: {prediction}\")\n",
    "\n",
    "mp.imshow(X.reshape(28, 28))"
   ]
  },
  {
   "cell_type": "code",
   "execution_count": null,
   "metadata": {},
   "outputs": [
    {
     "name": "stdout",
     "output_type": "stream",
     "text": [
      "Probabilities: [[6.14639721e-05 9.78623028e-10 1.58692404e-05 4.28524067e-07\n",
      "  1.35143346e-05 2.68094030e-06 2.16230829e-08 6.16461702e-10\n",
      "  9.99906019e-01 3.44708731e-10]]\n",
      "Label: 8\n",
      "Prediction: [8]\n"
     ]
    },
    {
     "data": {
      "text/plain": [
       "<matplotlib.image.AxesImage at 0x136d8f9e0>"
      ]
     },
     "execution_count": 10,
     "metadata": {},
     "output_type": "execute_result"
    },
    {
     "data": {
      "image/png": "[encoded data removed]",
      "text/plain": [
       "<Figure size 640x480 with 1 Axes>"
      ]
     },
     "metadata": {},
     "output_type": "display_data"
    }
   ],
   "source": [
    "X = dataTest[34]\n",
    "y = dataTestLabels[34]\n",
    "\n",
    "output = modelFashionMNIST.forward(X)\n",
    "print(f\"Probabilities: {output}\")\n",
    "\n",
    "prediction = np.argmax(output, axis=1)\n",
    "print(f\"Label: {y}\")\n",
    "print(f\"Prediction: {prediction}\")\n",
    "\n",
    "mp.imshow(X.reshape(28, 28))"
   ]
  },
  {
   "cell_type": "code",
   "execution_count": null,
   "metadata": {},
   "outputs": [
    {
     "data": {
      "image/png": "[encoded data removed]",
      "text/plain": [
       "<Figure size 1000x800 with 12 Axes>"
      ]
     },
     "metadata": {},
     "output_type": "display_data"
    }
   ],
   "source": [
    "import matplotlib.pyplot as plt\n",
    "incorrect_images = []\n",
    "incorrect_labels = []\n",
    "incorrect_predictions = []\n",
    "\n",
    "for i in range(len(dataTest)):\n",
    "    X = dataTest[i]\n",
    "    y = dataTestLabels[i]\n",
    "\n",
    "    output = modelFashionMNIST.forward(X)\n",
    "    prediction = np.argmax(output, axis=1)\n",
    "    if prediction[0] != y:\n",
    "        incorrect_images.append(X)\n",
    "        incorrect_labels.append(y)\n",
    "        incorrect_predictions.append(prediction[0])\n",
    "        \n",
    "        if len(incorrect_images) == 12:\n",
    "            break\n",
    "\n",
    "fig, axes = plt.subplots(3, 4, figsize=(10, 8))\n",
    "axes = axes.ravel()\n",
    "\n",
    "for i in range(12):\n",
    "    axes[i].imshow(incorrect_images[i].reshape(28, 28), cmap='gray')\n",
    "    axes[i].set_title(f'True: {incorrect_labels[i]}, Pred: {incorrect_predictions[i]}')\n",
    "    axes[i].axis('off')\n",
    "\n",
    "plt.tight_layout()\n",
    "plt.show()"
   ]
  },
  {
   "cell_type": "markdown",
   "metadata": {},
   "source": [
    "# Notes"
   ]
  },
  {
   "cell_type": "markdown",
   "metadata": {},
   "source": [
    "(batchNumber[32], inputs[718]) * (weights[718], weights[512]) = (32, 512)"
   ]
  },
  {
   "cell_type": "markdown",
   "metadata": {},
   "source": [
    "- Implement GitHub Repo - DONE\n",
    "\n",
    "Forward pass - Train \n",
    "    - Neurons + - DONE\n",
    "    - Acitvation function + - DONE\n",
    "    - Softwax (get probablities) + - DONE\n",
    "    - loss - DONE\n",
    "    - Test Forward Pass with Other Model Gradients - DONE\n",
    "\n",
    "Implement backpropagation\n",
    "    - Explain how to do and everything\n",
    "    - Start training with basic 80-20\n",
    "\n",
    "Introduce regularization\n",
    "Batch Normalization\n",
    "\n",
    "Optimizer\n",
    "\n",
    "Visualize gradients\n",
    "\n",
    "Visualize MNIST with UMAP or T-SNE"
   ]
  }
 ],
 "metadata": {
  "kernelspec": {
   "display_name": "default",
   "language": "python",
   "name": "python3"
  },
  "language_info": {
   "codemirror_mode": {
    "name": "ipython",
    "version": 3
   },
   "file_extension": ".py",
   "mimetype": "text/x-python",
   "name": "python",
   "nbconvert_exporter": "python",
   "pygments_lexer": "ipython3",
   "version": "3.12.3"
  }
 },
 "nbformat": 4,
 "nbformat_minor": 2
}
