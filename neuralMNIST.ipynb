{
 "cells": [
  {
   "cell_type": "markdown",
   "metadata": {},
   "source": [
    "# Basic Implementation"
   ]
  },
  {
   "cell_type": "code",
   "execution_count": 18,
   "metadata": {},
   "outputs": [],
   "source": [
    "import numpy as np"
   ]
  },
  {
   "cell_type": "code",
   "execution_count": 51,
   "metadata": {},
   "outputs": [],
   "source": [
    "class NeuralNetwork:\n",
    "    def __init__(self, input_size=784, hidden_layers=[512, 512], output_size=10):\n",
    "        self.input_size = input_size\n",
    "        self.hidden_layers = hidden_layers\n",
    "        self.output_size = output_size\n",
    "        self.weights = []\n",
    "        self.biases = []\n",
    "\n",
    "        # Input to Hidden Layers Network\n",
    "        self.weights.append(0.01 * np.random.rand(input_size, hidden_layers[0]))\n",
    "        self.biases.append(np.zeros((1, hidden_layers[0])))\n",
    "\n",
    "        # Hidden Layers Network\n",
    "        for i in range(len(hidden_layers)-1):\n",
    "            self.weights.append(0.01 * np.random.rand(hidden_layers[i], hidden_layers[i+1]))\n",
    "            self.biases.append(np.zeros((1, hidden_layers[i+1])))\n",
    "        \n",
    "        # Hidden Layers Network to Output\n",
    "        self.weights.append(0.01 * np.random.rand(hidden_layers[len(hidden_layers)-1], output_size))\n",
    "        self.biases.append(np.zeros((1, output_size)))\n",
    "\n",
    "    def forward(self, inputs):\n",
    "        layers = [inputs]\n",
    "\n",
    "        for i in range(len(self.weights)):\n",
    "            # Dot Product to \n",
    "            layers.append(np.dot(layers[-1], self.weights[i]) + self.biases[i])\n",
    "\n",
    "            # Activation Functions (ReLU + SoftMax)\n",
    "            if i == len(self.weights)-1:\n",
    "                finalOutput = np.exp(layers[-1] - np.max(layers[-1], axis=1, keepdims=True))\n",
    "                finalOutput = finalOutput / np.sum(finalOutput, axis=1, keepdims=True)\n",
    "                layers.append(finalOutput)\n",
    "            else:\n",
    "                layers.append(np.maximum(0, layers[-1]))\n",
    "        \n",
    "        return layers[-1]\n"
   ]
  },
  {
   "cell_type": "code",
   "execution_count": 20,
   "metadata": {},
   "outputs": [],
   "source": [
    "# LossCategoricalCrossEntropy implementation\n",
    "def LossCategoricalCrossEntropy(yPred, yTrue):\n",
    "    # If predicted class has a prediction of 0% likelihood this prevents log(0), which would be infinity\n",
    "    yPred = np.clip(yPred, 1e-10, 1 - 1e-10)\n",
    "\n",
    "    # We calculate the sum of the log losses\n",
    "    loss = -np.sum(yTrue * np.log(yPred), axis=1)\n",
    "\n",
    "    # We calculate the average loss - this depends on the number of samples\n",
    "    # So the return loss is the average loss not the summed up loss (which took me a while to understand)\n",
    "    average_loss = np.mean(loss)\n",
    "\n",
    "    return average_loss\n"
   ]
  },
  {
   "cell_type": "code",
   "execution_count": 21,
   "metadata": {},
   "outputs": [],
   "source": [
    "myNeuralNet = NeuralNetwork()"
   ]
  },
  {
   "cell_type": "code",
   "execution_count": 23,
   "metadata": {},
   "outputs": [
    {
     "data": {
      "text/plain": [
       "array([[0.43584075, 0.33492869, 0.22923056]])"
      ]
     },
     "execution_count": 23,
     "metadata": {},
     "output_type": "execute_result"
    }
   ],
   "source": [
    "result = myNeuralNet.forward(np.random.rand(1, 784))\n",
    "result"
   ]
  },
  {
   "cell_type": "markdown",
   "metadata": {},
   "source": [
    "# Get Weights from PyTorch Model"
   ]
  },
  {
   "cell_type": "code",
   "execution_count": 52,
   "metadata": {},
   "outputs": [],
   "source": [
    "modelMNIST = NeuralNetwork(hidden_layers=[256])"
   ]
  },
  {
   "cell_type": "code",
   "execution_count": 53,
   "metadata": {},
   "outputs": [],
   "source": [
    "# Import Weights from Folder\n",
    "modelWeights = []\n",
    "modelWeights.append(np.load(\"./modelWeights/layer_stack.1.weight.npy\"))\n",
    "modelWeights.append(np.load(\"./modelWeights/layer_stack.3.weight.npy\"))\n",
    "modelBiases = []\n",
    "modelBiases.append(np.load(\"./modelWeights/layer_stack.1.bias.npy\"))\n",
    "modelBiases.append(np.load(\"./modelWeights/layer_stack.3.bias.npy\"))"
   ]
  },
  {
   "cell_type": "code",
   "execution_count": 66,
   "metadata": {},
   "outputs": [
    {
     "name": "stdout",
     "output_type": "stream",
     "text": [
      "Shapes PytTorchModel: (256,)\n",
      "Shapes PytTorchModel Transformed: (1, 256)\n",
      "Shapes MyModel: (1, 256)\n",
      "\n",
      "Shapes PytTorchModel: (10,)\n",
      "Shapes PytTorchModel Transformed: (1, 10)\n",
      "Shapes MyModel: (1, 10)\n",
      "\n",
      "Shapes PytTorchModel: (256, 784)\n",
      "Shapes PytTorchModel Transformed: (784, 256)\n",
      "Shapes MyModel: (784, 256)\n",
      "\n",
      "Shapes PytTorchModel: (10, 256)\n",
      "Shapes PytTorchModel Transformed: (256, 10)\n",
      "Shapes MyModel: (256, 10)\n",
      "\n"
     ]
    }
   ],
   "source": [
    "# Visualize Biases:\n",
    "for i in range(len(modelBiases)):\n",
    "    print(f\"Shapes PytTorchModel: {modelBiases[i].shape}\")\n",
    "    print(f\"Shapes PytTorchModel Transformed: {np.expand_dims(modelBiases[i], axis=0).shape}\")\n",
    "    print(f\"Shapes MyModel: {modelMNIST.biases[i].shape}\")\n",
    "    print()\n",
    "\n",
    "# Visualize Weights:\n",
    "for i in range(len(modelWeights)):\n",
    "    print(f\"Shapes PytTorchModel: {modelWeights[i].shape}\")\n",
    "    print(f\"Shapes PytTorchModel Transformed: {modelWeights[i].T.shape}\")\n",
    "    print(f\"Shapes MyModel: {modelMNIST.weights[i].shape}\")\n",
    "    print()"
   ]
  },
  {
   "cell_type": "code",
   "execution_count": 67,
   "metadata": {},
   "outputs": [],
   "source": [
    "# Change Biases:\n",
    "for i in range(len(modelBiases)):\n",
    "    modelMNIST.biases[i] = np.expand_dims(modelBiases[i], axis=0)\n",
    "\n",
    "# Change Weights:\n",
    "for i in range(len(modelWeights)):\n",
    "    modelMNIST.weights[i] = modelWeights[i].T"
   ]
  },
  {
   "cell_type": "code",
   "execution_count": 69,
   "metadata": {},
   "outputs": [],
   "source": [
    "import gzip\n",
    "\n",
    "# Load MNIST dataset\n",
    "def extract_images(filename):\n",
    "    with gzip.open(filename, 'rb') as f:\n",
    "        magic, num, rows, cols = np.frombuffer(f.read(16), dtype=np.uint32, count=4).byteswap()\n",
    "        images = np.frombuffer(f.read(), dtype=np.uint8).reshape(num, rows, cols)\n",
    "    return images\n",
    "\n",
    "def extract_labels(filename):\n",
    "    with gzip.open(filename, 'rb') as f:\n",
    "        magic, num = np.frombuffer(f.read(8), dtype=np.uint32, count=2).byteswap()\n",
    "        labels = np.frombuffer(f.read(), dtype=np.uint8)\n",
    "    return labels\n",
    "\n",
    "train_images = extract_images(\"./MNISTdata/train-images-idx3-ubyte.gz\")\n",
    "train_labels = extract_labels(\"./MNISTdata/train-labels-idx1-ubyte.gz\")\n",
    "test_images = extract_images(\"./MNISTdata/t10k-images-idx3-ubyte.gz\")\n",
    "test_labels = extract_labels(\"./MNISTdata/t10k-labels-idx1-ubyte.gz\")"
   ]
  },
  {
   "cell_type": "code",
   "execution_count": 98,
   "metadata": {},
   "outputs": [
    {
     "name": "stdout",
     "output_type": "stream",
     "text": [
      "Test Label: 7\n",
      "Predicted Label: [[0. 0. 0. 0. 0. 0. 0. 1. 0. 0.]]\n"
     ]
    }
   ],
   "source": [
    "testImage1 = np.expand_dims(test_images[0].flatten(), axis=0)\n",
    "print(f\"Test Label: {test_labels[0]}\")\n",
    "print(f\"Predicted Label: {modelMNIST.forward(testImage1)}\")"
   ]
  },
  {
   "cell_type": "code",
   "execution_count": 101,
   "metadata": {},
   "outputs": [
    {
     "data": {
      "text/plain": [
       "0.9753"
      ]
     },
     "execution_count": 101,
     "metadata": {},
     "output_type": "execute_result"
    }
   ],
   "source": [
    "correct = 0\n",
    "incorrect = 0\n",
    "for i in range(len(test_images)):\n",
    "    image = np.expand_dims(test_images[i].flatten(), axis=0)\n",
    "\n",
    "    if int(test_labels[i]) == int(modelMNIST.forward(image).argmax()):\n",
    "        correct += 1\n",
    "    else:\n",
    "        incorrect += 1\n",
    "\n",
    "(correct)/(correct+incorrect)"
   ]
  },
  {
   "cell_type": "markdown",
   "metadata": {},
   "source": [
    "# Notes"
   ]
  },
  {
   "cell_type": "markdown",
   "metadata": {},
   "source": [
    "(batchNumber[32], inputs[718]) * (weights[718], weights[512]) = (32, 512)"
   ]
  },
  {
   "cell_type": "markdown",
   "metadata": {},
   "source": [
    "- Implement GitHub Repo - DONE\n",
    "\n",
    "Forward pass - Train \n",
    "    - Neurons + - DONE\n",
    "    - Acitvation function + - DONE\n",
    "    - Softwax (get probablities) + - DONE\n",
    "    - loss - DONE\n",
    "    - Test Forward Pass with Other Model Gradients - DONE\n",
    "\n",
    "Implement backpropagation\n",
    "    - Explain how to do and everything\n",
    "    - Start training with basic 80-20\n",
    "\n",
    "Introduce regularization\n",
    "Batch Normalization\n",
    "\n",
    "Optimizer\n",
    "\n",
    "Visualize gradients\n",
    "\n",
    "Visualize MNIST with UMAP or T-SNE"
   ]
  }
 ],
 "metadata": {
  "kernelspec": {
   "display_name": "default",
   "language": "python",
   "name": "python3"
  },
  "language_info": {
   "codemirror_mode": {
    "name": "ipython",
    "version": 3
   },
   "file_extension": ".py",
   "mimetype": "text/x-python",
   "name": "python",
   "nbconvert_exporter": "python",
   "pygments_lexer": "ipython3",
   "version": "3.11.3"
  }
 },
 "nbformat": 4,
 "nbformat_minor": 2
}
